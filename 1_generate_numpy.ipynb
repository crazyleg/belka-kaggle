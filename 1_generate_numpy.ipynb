{
 "cells": [
  {
   "cell_type": "code",
   "execution_count": 1,
   "metadata": {},
   "outputs": [
    {
     "name": "stderr",
     "output_type": "stream",
     "text": [
      "/home/anonymous/miniconda3/envs/belka/lib/python3.10/site-packages/tqdm/auto.py:21: TqdmWarning: IProgress not found. Please update jupyter and ipywidgets. See https://ipywidgets.readthedocs.io/en/stable/user_install.html\n",
      "  from .autonotebook import tqdm as notebook_tqdm\n"
     ]
    }
   ],
   "source": [
    "import pandas as pd\n",
    "from tqdm.auto import tqdm\n",
    "import random\n",
    "from rdkit import Chem\n",
    "import numpy as np\n",
    "from collections import defaultdict\n",
    "import pyarrow.parquet as pq"
   ]
  },
  {
   "cell_type": "code",
   "execution_count": 2,
   "metadata": {},
   "outputs": [
    {
     "name": "stderr",
     "output_type": "stream",
     "text": [
      "100%|██████████| 10000/10000 [00:14<00:00, 691.02it/s]\n"
     ]
    }
   ],
   "source": [
    "import numpy as np\n",
    "from rdkit import Chem\n",
    "import pandas as pd\n",
    "from tqdm.auto import tqdm\n",
    "import random\n",
    "from rdkit import Chem\n",
    "import numpy as np\n",
    "from collections import defaultdict\n",
    "import pyarrow.parquet as pq\n",
    "from tqdm import tqdm\n",
    "import multiprocessing\n",
    "from simple_gnn.preprocess import create_atoms, create_ijbonddict, extract_fingerprints\n",
    "from tqdm.auto import tqdm\n",
    "\n",
    "atom_dict = {'C': 0,\n",
    "             'N': 1,\n",
    "             ('C', 'aromatic'): 2,\n",
    "             ('N', 'aromatic'): 3,\n",
    "             'O': 4,\n",
    "             'H': 5,\n",
    "             ('S', 'aromatic'): 6,\n",
    "             'Cl': 7,\n",
    "             'S': 8,\n",
    "             ('O', 'aromatic'): 9,\n",
    "             'Br': 10,\n",
    "             'F': 11,\n",
    "             'Si': 12,\n",
    "             'B': 13,\n",
    "             'I': 14}\n",
    "\n",
    "bond_dict = {'TRIPLE': 0, 'SINGLE': 1, 'AROMATIC': 2, 'DOUBLE': 3}\n",
    "\n",
    "fingerprint_dict = {0: 0,\n",
    "             1: 1,\n",
    "             2: 2,\n",
    "             3: 3,\n",
    "             4: 4,\n",
    "             5: 5,\n",
    "             6: 6,\n",
    "             7: 7,\n",
    "             8: 8,\n",
    "             9: 9,\n",
    "             10: 10,\n",
    "             11: 11,\n",
    "             12: 12,\n",
    "             13: 13,\n",
    "             14: 14}\n",
    "\n",
    "edge_dict = {}\n",
    "# Function to process each chunk of data\n",
    "def process_data(data_chunk):\n",
    "    fingerprints_storage = []\n",
    "    adjacency_storage = []\n",
    "    properties_storage = []\n",
    "    molecular_size_storage = []\n",
    "\n",
    "    for x in data_chunk:\n",
    "        data = x.strip().split()\n",
    "        smiles, property = data\n",
    "\n",
    "        mol = Chem.AddHs(Chem.MolFromSmiles(smiles))\n",
    "        atoms = create_atoms(mol, atom_dict)  # Assuming create_atoms is defined elsewhere\n",
    "        molecular_size = len(atoms)\n",
    "        i_jbond_dict = create_ijbonddict(mol, bond_dict)  # Assuming create_ijbonddict is defined elsewhere\n",
    "        fingerprints = extract_fingerprints(0, atoms, i_jbond_dict, fingerprint_dict, edge_dict)  # Assuming extract_fingerprints is defined\n",
    "        adjacency = Chem.GetAdjacencyMatrix(mol)\n",
    "\n",
    "        fingerprints_storage.append(np.array(fingerprints))\n",
    "        adjacency_storage.append(np.array(adjacency))\n",
    "        properties_storage.append(property)\n",
    "        molecular_size_storage.append(molecular_size)\n",
    "\n",
    "    return fingerprints_storage, adjacency_storage, properties_storage, molecular_size_storage\n",
    "\n",
    "# Read and preprocess the data\n",
    "with open('BRD4_train.txt', 'r') as f:\n",
    "    data_original = f.read().strip().split('\\n')\n",
    "    data_original = [data for data in data_original if '.' not in data.split()[0]][0:100000]\n",
    "\n",
    "# Split data into 1000 chunks\n",
    "num_chunks = 10000\n",
    "chunk_size = len(data_original) // num_chunks + (len(data_original) % num_chunks > 0)\n",
    "data_chunks = [data_original[i:i + chunk_size] for i in range(0, len(data_original), chunk_size)]\n",
    "\n",
    "# Create a pool of processes and map data processing function to data chunks using tqdm\n",
    "pool = multiprocessing.Pool(processes=multiprocessing.cpu_count())\n",
    "results = []\n",
    "\n",
    "# Use tqdm to monitor the progress of chunk processing\n",
    "for result in tqdm(pool.imap_unordered(process_data, data_chunks), total=num_chunks):\n",
    "    results.append(result)\n",
    "\n",
    "pool.close()\n",
    "pool.join()\n",
    "\n",
    "# Combine the results\n",
    "fingerprints_storage = [item for sublist in results for item in sublist[0]]\n",
    "adjacency_storage = [item for sublist in results for item in sublist[1]]\n",
    "properties_storage = [item for sublist in results for item in sublist[2]]\n",
    "molecular_size_storage = [item for sublist in results for item in sublist[3]]\n",
    "\n",
    "# Continue as before\n",
    "arr_fingerprints = np.array(fingerprints_storage, dtype=object)\n",
    "np.save('BRD4_train_fingerprints.npy', arr_fingerprints)\n",
    "\n",
    "arr_fingerprints = np.array(fingerprints_storage, dtype=object)\n",
    "np.save('BRD4_train_fingerprints.npy', arr_fingerprints)\n",
    "\n",
    "arr_adjacency = np.array(adjacency_storage, dtype=object)\n",
    "np.save('BRD4_train_adjacency.npy', arr_adjacency)\n",
    "\n",
    "arr_properties = np.array(properties_storage)\n",
    "np.save('BRD4_train_properties.npy', arr_properties)\n",
    "\n",
    "arr_molecular_size = np.array(molecular_size_storage)\n",
    "np.save('BRD4_train_molecular_size.npy', arr_molecular_size)\n"
   ]
  },
  {
   "cell_type": "code",
   "execution_count": 4,
   "metadata": {},
   "outputs": [
    {
     "data": {
      "text/plain": [
       "array(['0', '0', '0', ..., '0', '0', '0'], dtype='<U1')"
      ]
     },
     "execution_count": 4,
     "metadata": {},
     "output_type": "execute_result"
    }
   ],
   "source": [
    "import numpy as np\n",
    "np.load('BRD4_train.txt_properties.npy', allow_pickle=True)"
   ]
  }
 ],
 "metadata": {
  "kernelspec": {
   "display_name": "belka",
   "language": "python",
   "name": "python3"
  },
  "language_info": {
   "codemirror_mode": {
    "name": "ipython",
    "version": 3
   },
   "file_extension": ".py",
   "mimetype": "text/x-python",
   "name": "python",
   "nbconvert_exporter": "python",
   "pygments_lexer": "ipython3",
   "version": "3.10.13"
  }
 },
 "nbformat": 4,
 "nbformat_minor": 2
}

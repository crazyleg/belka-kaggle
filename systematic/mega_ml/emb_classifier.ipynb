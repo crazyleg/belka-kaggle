{
 "cells": [
  {
   "cell_type": "code",
   "execution_count": 1,
   "metadata": {},
   "outputs": [],
   "source": [
    "import pandas as pd"
   ]
  },
  {
   "cell_type": "code",
   "execution_count": 3,
   "metadata": {},
   "outputs": [],
   "source": [
    "data = pd.read_csv('/home/anonymous/belka/model_emb_s1_random_0.71-unique.csv')"
   ]
  },
  {
   "cell_type": "code",
   "execution_count": 16,
   "metadata": {},
   "outputs": [
    {
     "name": "stdout",
     "output_type": "stream",
     "text": [
      "Accuracy: 0.30640794936005095\n"
     ]
    }
   ],
   "source": [
    "import pandas as pd\n",
    "import numpy as np\n",
    "from sklearn.model_selection import train_test_split\n",
    "import xgboost as xgb\n",
    "from sklearn.metrics import accuracy_score\n",
    "from sklearn.metrics import average_precision_score\n",
    "# Load the data\n",
    "data = pd.read_csv('/home/anonymous/belka/model_emb_s1_random_0.71-unique.csv')\n",
    "\n",
    "# Extract features and target\n",
    "features = np.array(data['emb'].apply(lambda x: np.fromstring(x[1:-1], sep=',')).tolist())\n",
    "targets = np.array(data['target'].apply(lambda x: np.fromstring(x[1:-1], sep=',')).tolist())\n",
    "\n",
    "# Split the data into training and testing sets\n",
    "X_train, X_test, y_train, y_test = train_test_split(features, targets, test_size=0.2, random_state=42)\n",
    "\n",
    "# Initialize the XGBoost model\n",
    "model = xgb.XGBClassifier(eval_metric='map',n_estimators=100)\n",
    "\n",
    "# Train the model\n",
    "model.fit(X_train, y_train)\n",
    "\n",
    "# Predict on the test set\n",
    "y_pred = model.predict(X_test)\n",
    "\n",
    "# Evaluate the model\n",
    "accuracy = average_precision_score(y_test, y_pred, average='micro')\n",
    "print(f\"Accuracy: {accuracy}\")\n",
    "\n",
    "# Optionally, you can evaluate more metrics like confusion matrix, F1 score, etc.\n"
   ]
  },
  {
   "cell_type": "code",
   "execution_count": 17,
   "metadata": {},
   "outputs": [],
   "source": [
    "data = pd.read_csv('/home/anonymous/belka/model_emb_216_full.csv')\n",
    "\n",
    "# Extract features and target\n",
    "features = np.array(data['emb'].apply(lambda x: np.fromstring(x[1:-1], sep=',')).tolist())\n",
    "targets = np.array(data['target'].apply(lambda x: np.fromstring(x[1:-1], sep=',')).tolist())"
   ]
  },
  {
   "cell_type": "code",
   "execution_count": 18,
   "metadata": {},
   "outputs": [],
   "source": [
    "y_pred = model.predict_proba(features)"
   ]
  },
  {
   "cell_type": "code",
   "execution_count": 19,
   "metadata": {},
   "outputs": [
    {
     "name": "stdout",
     "output_type": "stream",
     "text": [
      "Accuracy: 0.3133969985343831\n"
     ]
    }
   ],
   "source": [
    "accuracy = average_precision_score(targets, y_pred, average='micro')\n",
    "print(f\"Accuracy: {accuracy}\")"
   ]
  },
  {
   "cell_type": "code",
   "execution_count": 20,
   "metadata": {},
   "outputs": [
    {
     "name": "stderr",
     "output_type": "stream",
     "text": [
      "/home/anonymous/miniconda3/envs/belka/lib/python3.10/site-packages/xgboost/core.py:160: UserWarning: [20:44:00] WARNING: /home/conda/feedstock_root/build_artifacts/xgboost-split_1713397827678/work/src/c_api/c_api.cc:1240: Saving into deprecated binary model format, please consider using `json` or `ubj`. Model format will default to JSON in XGBoost 2.2 if not specified.\n",
      "  warnings.warn(smsg, UserWarning)\n"
     ]
    }
   ],
   "source": [
    "model.save_model('xgb.model')"
   ]
  }
 ],
 "metadata": {
  "kernelspec": {
   "display_name": "belka",
   "language": "python",
   "name": "python3"
  },
  "language_info": {
   "codemirror_mode": {
    "name": "ipython",
    "version": 3
   },
   "file_extension": ".py",
   "mimetype": "text/x-python",
   "name": "python",
   "nbconvert_exporter": "python",
   "pygments_lexer": "ipython3",
   "version": "3.10.13"
  }
 },
 "nbformat": 4,
 "nbformat_minor": 2
}

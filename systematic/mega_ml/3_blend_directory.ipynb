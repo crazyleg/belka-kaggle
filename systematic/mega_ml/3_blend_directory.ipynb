{
 "cells": [
  {
   "cell_type": "code",
   "execution_count": 1,
   "metadata": {},
   "outputs": [],
   "source": [
    "import pandas as pd\n",
    "import numpy as np\n",
    "import pyarrow.parquet as pq\n",
    "import ast\n",
    "import os"
   ]
  },
  {
   "cell_type": "code",
   "execution_count": 17,
   "metadata": {},
   "outputs": [],
   "source": [
    "DIR = '/home/anonymous/belka/systematic/mega_ml/final/domain_research/61/predictions/'\n",
    "DIR_TO_SAVE = '/home/anonymous/belka/systematic/mega_ml/final/domain_research/61/final_average/'"
   ]
  },
  {
   "cell_type": "code",
   "execution_count": 18,
   "metadata": {},
   "outputs": [],
   "source": [
    "results = []\n",
    "for file in os.listdir(DIR):\n",
    "    results.append(pd.read_csv(DIR+file).set_index('id'))\n",
    "\n"
   ]
  },
  {
   "cell_type": "code",
   "execution_count": 19,
   "metadata": {},
   "outputs": [],
   "source": [
    "\n",
    "# Combine DataFrames based on 'id'\n",
    "combined_df = pd.concat(results).groupby('id')['binds'].apply(list).reset_index()\n",
    "\n",
    "# Function to compute mean of lists element-wise\n",
    "def compute_mean(row):\n",
    "    binds_list = row['binds']\n",
    "    if isinstance(binds_list[0], str):\n",
    "        # Convert string representation back to list\n",
    "        binds_list = [eval(b) for b in binds_list]\n",
    "    mean_values = [sum(col) / len(col) for col in zip(*binds_list)]\n",
    "    return mean_values\n",
    "\n",
    "# Compute mean for each 'id'\n",
    "combined_df['binds_avg'] = combined_df.apply(compute_mean, axis=1)\n",
    "\n",
    "# Drop the original 'binds' column if needed\n",
    "combined_df.drop('binds', axis=1, inplace=True)"
   ]
  },
  {
   "cell_type": "code",
   "execution_count": 20,
   "metadata": {},
   "outputs": [],
   "source": [
    "combined_df.columns=['id','binds']"
   ]
  },
  {
   "cell_type": "code",
   "execution_count": 21,
   "metadata": {},
   "outputs": [],
   "source": [
    "combined_df.to_csv(DIR_TO_SAVE+'combined_file_with_avg.csv', index=False)"
   ]
  },
  {
   "cell_type": "code",
   "execution_count": 16,
   "metadata": {},
   "outputs": [
    {
     "data": {
      "text/html": [
       "<div>\n",
       "<style scoped>\n",
       "    .dataframe tbody tr th:only-of-type {\n",
       "        vertical-align: middle;\n",
       "    }\n",
       "\n",
       "    .dataframe tbody tr th {\n",
       "        vertical-align: top;\n",
       "    }\n",
       "\n",
       "    .dataframe thead th {\n",
       "        text-align: right;\n",
       "    }\n",
       "</style>\n",
       "<table border=\"1\" class=\"dataframe\">\n",
       "  <thead>\n",
       "    <tr style=\"text-align: right;\">\n",
       "      <th></th>\n",
       "      <th>id</th>\n",
       "      <th>binds</th>\n",
       "    </tr>\n",
       "  </thead>\n",
       "  <tbody>\n",
       "    <tr>\n",
       "      <th>0</th>\n",
       "      <td>C#CCCC[C@H](Nc1nc(NC(=N)c2cccc(CN)c2)nc(NC(=N)...</td>\n",
       "      <td>[5.182420034088864e-06, 0.00018461876024957746...</td>\n",
       "    </tr>\n",
       "    <tr>\n",
       "      <th>1</th>\n",
       "      <td>C#CCCC[C@H](Nc1nc(NC(=N)c2cccc(CN)c2)nc(Nc2c(C...</td>\n",
       "      <td>[8.49282332637813e-06, 0.000205154901050264, 1...</td>\n",
       "    </tr>\n",
       "    <tr>\n",
       "      <th>2</th>\n",
       "      <td>C#CCCC[C@H](Nc1nc(NC(=N)c2cccc(CN)c2)nc(Nc2cc(...</td>\n",
       "      <td>[1.064823300112039e-06, 0.0002967940497910604,...</td>\n",
       "    </tr>\n",
       "    <tr>\n",
       "      <th>3</th>\n",
       "      <td>C#CCCC[C@H](Nc1nc(NC(=N)c2cccc(CN)c2)nc(Nc2cc(...</td>\n",
       "      <td>[1.7354552255710586e-06, 0.0001988028998312074...</td>\n",
       "    </tr>\n",
       "    <tr>\n",
       "      <th>4</th>\n",
       "      <td>C#CCCC[C@H](Nc1nc(NC(=N)c2cccc(CN)c2)nc(Nc2cc(...</td>\n",
       "      <td>[2.0981527825369995e-06, 0.0002492107028956525...</td>\n",
       "    </tr>\n",
       "    <tr>\n",
       "      <th>...</th>\n",
       "      <td>...</td>\n",
       "      <td>...</td>\n",
       "    </tr>\n",
       "    <tr>\n",
       "      <th>878017</th>\n",
       "      <td>[N-]=[N+]=NCCC[C@H](Nc1nc(Nc2nccc(Cl)n2)nc(Nc2...</td>\n",
       "      <td>[5.1004089485218175e-08, 0.006075479136779904,...</td>\n",
       "    </tr>\n",
       "    <tr>\n",
       "      <th>878018</th>\n",
       "      <td>[N-]=[N+]=NCCC[C@H](Nc1nc(Nc2nccc(Cl)n2)nc(Nc2...</td>\n",
       "      <td>[0.00018049120044452138, 9.497616338194348e-05...</td>\n",
       "    </tr>\n",
       "    <tr>\n",
       "      <th>878019</th>\n",
       "      <td>[N-]=[N+]=NCCC[C@H](Nc1nc(Nc2ncnc3c2ncn3C2CCCC...</td>\n",
       "      <td>[2.1715368703212334e-07, 0.0001011014555842848...</td>\n",
       "    </tr>\n",
       "    <tr>\n",
       "      <th>878020</th>\n",
       "      <td>[N-]=[N+]=NCCC[C@H](Nc1nc(Nc2ncns2)nc(Nc2ncc(-...</td>\n",
       "      <td>[8.041748458254006e-08, 0.00010215531292487868...</td>\n",
       "    </tr>\n",
       "    <tr>\n",
       "      <th>878021</th>\n",
       "      <td>[N-]=[N+]=NCCC[C@H](Nc1nc(Nc2nnc(S)s2)nc(Nc2cc...</td>\n",
       "      <td>[5.877895000594436e-06, 0.00028574767929967493...</td>\n",
       "    </tr>\n",
       "  </tbody>\n",
       "</table>\n",
       "<p>878022 rows × 2 columns</p>\n",
       "</div>"
      ],
      "text/plain": [
       "                                                       id  \\\n",
       "0       C#CCCC[C@H](Nc1nc(NC(=N)c2cccc(CN)c2)nc(NC(=N)...   \n",
       "1       C#CCCC[C@H](Nc1nc(NC(=N)c2cccc(CN)c2)nc(Nc2c(C...   \n",
       "2       C#CCCC[C@H](Nc1nc(NC(=N)c2cccc(CN)c2)nc(Nc2cc(...   \n",
       "3       C#CCCC[C@H](Nc1nc(NC(=N)c2cccc(CN)c2)nc(Nc2cc(...   \n",
       "4       C#CCCC[C@H](Nc1nc(NC(=N)c2cccc(CN)c2)nc(Nc2cc(...   \n",
       "...                                                   ...   \n",
       "878017  [N-]=[N+]=NCCC[C@H](Nc1nc(Nc2nccc(Cl)n2)nc(Nc2...   \n",
       "878018  [N-]=[N+]=NCCC[C@H](Nc1nc(Nc2nccc(Cl)n2)nc(Nc2...   \n",
       "878019  [N-]=[N+]=NCCC[C@H](Nc1nc(Nc2ncnc3c2ncn3C2CCCC...   \n",
       "878020  [N-]=[N+]=NCCC[C@H](Nc1nc(Nc2ncns2)nc(Nc2ncc(-...   \n",
       "878021  [N-]=[N+]=NCCC[C@H](Nc1nc(Nc2nnc(S)s2)nc(Nc2cc...   \n",
       "\n",
       "                                                    binds  \n",
       "0       [5.182420034088864e-06, 0.00018461876024957746...  \n",
       "1       [8.49282332637813e-06, 0.000205154901050264, 1...  \n",
       "2       [1.064823300112039e-06, 0.0002967940497910604,...  \n",
       "3       [1.7354552255710586e-06, 0.0001988028998312074...  \n",
       "4       [2.0981527825369995e-06, 0.0002492107028956525...  \n",
       "...                                                   ...  \n",
       "878017  [5.1004089485218175e-08, 0.006075479136779904,...  \n",
       "878018  [0.00018049120044452138, 9.497616338194348e-05...  \n",
       "878019  [2.1715368703212334e-07, 0.0001011014555842848...  \n",
       "878020  [8.041748458254006e-08, 0.00010215531292487868...  \n",
       "878021  [5.877895000594436e-06, 0.00028574767929967493...  \n",
       "\n",
       "[878022 rows x 2 columns]"
      ]
     },
     "execution_count": 16,
     "metadata": {},
     "output_type": "execute_result"
    }
   ],
   "source": [
    "combined_df"
   ]
  }
 ],
 "metadata": {
  "kernelspec": {
   "display_name": "belka",
   "language": "python",
   "name": "python3"
  },
  "language_info": {
   "codemirror_mode": {
    "name": "ipython",
    "version": 3
   },
   "file_extension": ".py",
   "mimetype": "text/x-python",
   "name": "python",
   "nbconvert_exporter": "python",
   "pygments_lexer": "ipython3",
   "version": "3.10.13"
  }
 },
 "nbformat": 4,
 "nbformat_minor": 2
}

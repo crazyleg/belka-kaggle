{
 "cells": [
  {
   "cell_type": "code",
   "execution_count": 2,
   "metadata": {},
   "outputs": [],
   "source": [
    "import pandas as pd\n",
    "import numpy as np\n",
    "import pyarrow.parquet as pq\n",
    "import ast"
   ]
  },
  {
   "cell_type": "code",
   "execution_count": 3,
   "metadata": {},
   "outputs": [],
   "source": [
    "result = pd.read_csv('/home/anonymous/belka/domain_103_e5.csv')\n",
    "\n",
    "\n",
    "result['binds'] = result['binds'].apply(ast.literal_eval)\n",
    "result = result.set_index('id')\n",
    "result[['BRD4', 'HSA', 'sEH']] = pd.DataFrame(result['binds'].tolist(), index=result.index)\n",
    "\n",
    "# Drop the original list column if not needed\n",
    "result_r = result.drop(columns=['binds'])\n"
   ]
  },
  {
   "cell_type": "code",
   "execution_count": 5,
   "metadata": {},
   "outputs": [],
   "source": [
    "result = pd.read_csv('/home/anonymous/belka/r_226-e5.csv')\n",
    "\n",
    "result['binds'] = result['binds'].apply(ast.literal_eval)\n",
    "result = result.set_index('id')\n",
    "result[['BRD4', 'HSA', 'sEH']] = pd.DataFrame(result['binds'].tolist(), index=result.index)\n",
    "\n",
    "# Drop the original list column if not needed\n",
    "result_u = result.drop(columns=['binds'])\n"
   ]
  },
  {
   "cell_type": "code",
   "execution_count": 4,
   "metadata": {},
   "outputs": [],
   "source": [
    "TEST_MAIN = '/home/anonymous/belka/test_with_islands.parquet'"
   ]
  },
  {
   "cell_type": "code",
   "execution_count": 5,
   "metadata": {},
   "outputs": [],
   "source": [
    "parquet_file = pq.ParquetFile(TEST_MAIN)"
   ]
  },
  {
   "cell_type": "code",
   "execution_count": 19,
   "metadata": {},
   "outputs": [],
   "source": [
    "def clamp(n, min, max): \n",
    "    if n < min: \n",
    "        return min\n",
    "    elif n > max: \n",
    "        return max\n",
    "    else: \n",
    "        return n "
   ]
  },
  {
   "cell_type": "code",
   "execution_count": 6,
   "metadata": {},
   "outputs": [
    {
     "name": "stderr",
     "output_type": "stream",
     "text": [
      "/home/anonymous/miniconda3/envs/belka/lib/python3.10/site-packages/tqdm/auto.py:21: TqdmWarning: IProgress not found. Please update jupyter and ipywidgets. See https://ipywidgets.readthedocs.io/en/stable/user_install.html\n",
      "  from .autonotebook import tqdm as notebook_tqdm\n",
      "0it [00:00, ?it/s]"
     ]
    },
    {
     "name": "stderr",
     "output_type": "stream",
     "text": [
      "355it [01:19,  4.52it/s]"
     ]
    }
   ],
   "source": [
    "parquet_file = pq.ParquetFile(TEST_MAIN)\n",
    "results = []\n",
    "eps=1e-10\n",
    "from tqdm.auto import tqdm\n",
    "for batch in tqdm(parquet_file.iter_batches(batch_size=4096)):\n",
    "    batch = batch.to_pandas()\n",
    "     # Merge the batch DataFrame with the result DataFrame on 'id_numberic' and 'id'\n",
    "    merged_df = batch.merge(result_r, left_on='molecule_smiles', right_index=True, how='left')\n",
    "    # merged_df = merged_df.merge(result_u, left_on='molecule_smiles', right_index=True, how='left', suffixes=('_r', '_u'))\n",
    "\n",
    "    def get_score(row):\n",
    "        # return row[row['protein_name']]\n",
    "        # return row[row['protein_name']+'_r']\n",
    "        # # return row[row['protein_name']+'_u']*0.5+row[row['protein_name']+'_r']*0.5\n",
    "        if row['island']!=1: \n",
    "        #     # return (row[row['protein_name']+'_u']+row[row['protein_name']+'_r'])/2\n",
    "            return row[row['protein_name']]\n",
    "        else:\n",
    "        #     # return row[row['protein_name']+'_r']\n",
    "            return 0 \n",
    "        # else:\n",
    "        #     return row[row['protein_name']+'_u']\n",
    "    merged_df['binds'] = merged_df.apply(get_score, axis=1)\n",
    "    # merged_df = merged_df.drop(['molecule_smiles','protein_name','BRD4_r','HSA_r','sEH_r','BRD4_u','HSA_u','sEH_u','buildingblock1_smiles','buildingblock2_smiles','buildingblock3_smiles'], axis=1)\n",
    "    merged_df = merged_df.drop(['molecule_smiles','protein_name','BRD4','HSA','sEH','buildingblock1_smiles','buildingblock2_smiles','buildingblock3_smiles'], axis=1)\n",
    "    results.append(merged_df)"
   ]
  },
  {
   "cell_type": "code",
   "execution_count": null,
   "metadata": {},
   "outputs": [],
   "source": [
    "final_result = pd.concat(results).drop(['island'],axis=1)\n",
    "# final_result.to_csv('output_77_s1_mix_random_unique.csv', index=None)\n",
    "final_result.to_csv('output_domain_103_e5.csv', index=None)\n"
   ]
  },
  {
   "cell_type": "code",
   "execution_count": 11,
   "metadata": {},
   "outputs": [
    {
     "data": {
      "text/html": [
       "<div>\n",
       "<style scoped>\n",
       "    .dataframe tbody tr th:only-of-type {\n",
       "        vertical-align: middle;\n",
       "    }\n",
       "\n",
       "    .dataframe tbody tr th {\n",
       "        vertical-align: top;\n",
       "    }\n",
       "\n",
       "    .dataframe thead th {\n",
       "        text-align: right;\n",
       "    }\n",
       "</style>\n",
       "<table border=\"1\" class=\"dataframe\">\n",
       "  <thead>\n",
       "    <tr style=\"text-align: right;\">\n",
       "      <th></th>\n",
       "      <th>id</th>\n",
       "      <th>binds</th>\n",
       "    </tr>\n",
       "  </thead>\n",
       "  <tbody>\n",
       "    <tr>\n",
       "      <th>0</th>\n",
       "      <td>295246830</td>\n",
       "      <td>8.692931e-05</td>\n",
       "    </tr>\n",
       "    <tr>\n",
       "      <th>1</th>\n",
       "      <td>295246831</td>\n",
       "      <td>2.885004e-03</td>\n",
       "    </tr>\n",
       "    <tr>\n",
       "      <th>2</th>\n",
       "      <td>295246832</td>\n",
       "      <td>4.377997e-04</td>\n",
       "    </tr>\n",
       "    <tr>\n",
       "      <th>3</th>\n",
       "      <td>295246833</td>\n",
       "      <td>2.899197e-05</td>\n",
       "    </tr>\n",
       "    <tr>\n",
       "      <th>4</th>\n",
       "      <td>295246834</td>\n",
       "      <td>1.732452e-03</td>\n",
       "    </tr>\n",
       "    <tr>\n",
       "      <th>...</th>\n",
       "      <td>...</td>\n",
       "      <td>...</td>\n",
       "    </tr>\n",
       "    <tr>\n",
       "      <th>3723</th>\n",
       "      <td>296921721</td>\n",
       "      <td>5.821172e-05</td>\n",
       "    </tr>\n",
       "    <tr>\n",
       "      <th>3724</th>\n",
       "      <td>296921722</td>\n",
       "      <td>1.666633e-04</td>\n",
       "    </tr>\n",
       "    <tr>\n",
       "      <th>3725</th>\n",
       "      <td>296921723</td>\n",
       "      <td>7.143399e-06</td>\n",
       "    </tr>\n",
       "    <tr>\n",
       "      <th>3726</th>\n",
       "      <td>296921724</td>\n",
       "      <td>7.363746e-05</td>\n",
       "    </tr>\n",
       "    <tr>\n",
       "      <th>3727</th>\n",
       "      <td>296921725</td>\n",
       "      <td>1.895556e-07</td>\n",
       "    </tr>\n",
       "  </tbody>\n",
       "</table>\n",
       "<p>1674896 rows × 2 columns</p>\n",
       "</div>"
      ],
      "text/plain": [
       "             id         binds\n",
       "0     295246830  8.692931e-05\n",
       "1     295246831  2.885004e-03\n",
       "2     295246832  4.377997e-04\n",
       "3     295246833  2.899197e-05\n",
       "4     295246834  1.732452e-03\n",
       "...         ...           ...\n",
       "3723  296921721  5.821172e-05\n",
       "3724  296921722  1.666633e-04\n",
       "3725  296921723  7.143399e-06\n",
       "3726  296921724  7.363746e-05\n",
       "3727  296921725  1.895556e-07\n",
       "\n",
       "[1674896 rows x 2 columns]"
      ]
     },
     "execution_count": 11,
     "metadata": {},
     "output_type": "execute_result"
    }
   ],
   "source": [
    "final_result\n",
    "#model_emb_s1_random_0.71.csv\n",
    "#model_emb_216_full.csv"
   ]
  }
 ],
 "metadata": {
  "kernelspec": {
   "display_name": "belka",
   "language": "python",
   "name": "python3"
  },
  "language_info": {
   "codemirror_mode": {
    "name": "ipython",
    "version": 3
   },
   "file_extension": ".py",
   "mimetype": "text/x-python",
   "name": "python",
   "nbconvert_exporter": "python",
   "pygments_lexer": "ipython3",
   "version": "3.10.13"
  }
 },
 "nbformat": 4,
 "nbformat_minor": 2
}

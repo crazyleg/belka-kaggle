{
 "cells": [
  {
   "cell_type": "code",
   "execution_count": 2,
   "metadata": {},
   "outputs": [],
   "source": [
    "import pandas as pd\n",
    "import numpy as np\n",
    "import pyarrow.parquet as pq\n",
    "import ast"
   ]
  },
  {
   "cell_type": "code",
   "execution_count": 3,
   "metadata": {},
   "outputs": [],
   "source": [
    "result_1 = pd.read_csv('/home/anonymous/belka/systematic/mega_ml/final/domain_research/59/final_average/output_59_last5epoch_not1island.csv').set_index('id') #195\n",
    "\n",
    "result_2 = pd.read_csv('/home/anonymous/belka/systematic/mega_ml/final/domain_research/60/final_average/output_60_last5epoch_not1island.csv').set_index('id') #0.193\n",
    "# \n",
    "result_3 = pd.read_csv('/home/anonymous/belka/systematic/mega_ml/final/domain_research/56/final_average/output_55_last5epoch_not1island.csv').set_index('id') #192\n",
    "\n",
    "#"
   ]
  },
  {
   "cell_type": "code",
   "execution_count": 8,
   "metadata": {},
   "outputs": [],
   "source": [
    "\n",
    "# Merge the DataFrames on 'id'\n",
    "merged_df = result_1.join(result_2, lsuffix='_r1', rsuffix='_r2').join(result_3)\n",
    "\n",
    "# Compute the weighted sum of the 'binds' columns\n",
    "merged_df['binds'] = merged_df['binds_r1'] * 0.25 + merged_df['binds_r2'] * 0.25 + merged_df['binds'] * 0.5\n",
    "\n",
    "# Drop the original 'binds' columns\n",
    "merged_df = merged_df.drop(columns=['binds_r1', 'binds_r2'])\n",
    "\n",
    "# Reset the index if needed\n",
    "merged_df = merged_df.reset_index()"
   ]
  },
  {
   "cell_type": "code",
   "execution_count": 10,
   "metadata": {},
   "outputs": [],
   "source": [
    "merged_df.to_csv('output_best_blend_domain_56_59_60.csv', index=None)"
   ]
  }
 ],
 "metadata": {
  "kernelspec": {
   "display_name": "belka",
   "language": "python",
   "name": "python3"
  },
  "language_info": {
   "codemirror_mode": {
    "name": "ipython",
    "version": 3
   },
   "file_extension": ".py",
   "mimetype": "text/x-python",
   "name": "python",
   "nbconvert_exporter": "python",
   "pygments_lexer": "ipython3",
   "version": "3.10.13"
  }
 },
 "nbformat": 4,
 "nbformat_minor": 2
}

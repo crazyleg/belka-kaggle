{
 "cells": [
  {
   "cell_type": "code",
   "execution_count": 1,
   "metadata": {},
   "outputs": [],
   "source": [
    "import pandas as pd\n",
    "import numpy as np\n",
    "import pyarrow.parquet as pq\n",
    "import ast"
   ]
  },
  {
   "cell_type": "code",
   "execution_count": 23,
   "metadata": {},
   "outputs": [],
   "source": [
    "result = pd.read_csv('/home/anonymous/belka/308-e5.csv')\n",
    "\n",
    "\n",
    "result['binds'] = result['binds'].apply(ast.literal_eval)\n",
    "result = result.set_index('id')\n",
    "result[['BRD4', 'HSA', 'sEH']] = pd.DataFrame(result['binds'].tolist(), index=result.index)\n",
    "\n",
    "# Drop the original list column if not needed\n",
    "result1 = result.drop(columns=['binds','HSA','sEH'])\n"
   ]
  },
  {
   "cell_type": "code",
   "execution_count": 24,
   "metadata": {},
   "outputs": [],
   "source": [
    "result = pd.read_csv('/home/anonymous/belka/309-e5.csv')\n",
    "\n",
    "\n",
    "result['binds'] = result['binds'].apply(ast.literal_eval)\n",
    "result = result.set_index('id')\n",
    "result[['BRD4', 'HSA', 'sEH']] = pd.DataFrame(result['binds'].tolist(), index=result.index)\n",
    "\n",
    "# Drop the original list column if not needed\n",
    "result2 = result.drop(columns=['binds','BRD4','sEH'])\n"
   ]
  },
  {
   "cell_type": "code",
   "execution_count": 25,
   "metadata": {},
   "outputs": [],
   "source": [
    "result = pd.read_csv('/home/anonymous/belka/310-e3.csv')\n",
    "\n",
    "\n",
    "result['binds'] = result['binds'].apply(ast.literal_eval)\n",
    "result = result.set_index('id')\n",
    "result[['BRD4', 'HSA', 'sEH']] = pd.DataFrame(result['binds'].tolist(), index=result.index)\n",
    "\n",
    "# Drop the original list column if not needed\n",
    "result3 = result.drop(columns=['binds','BRD4','HSA'])\n"
   ]
  },
  {
   "cell_type": "code",
   "execution_count": 26,
   "metadata": {},
   "outputs": [],
   "source": [
    "final = result1.join(result2).join(result3)"
   ]
  },
  {
   "cell_type": "code",
   "execution_count": 27,
   "metadata": {},
   "outputs": [],
   "source": [
    "final['binds'] = final.apply(lambda row: [row['BRD4'], row['HSA'], row['sEH']], axis=1)\n",
    "final = final.drop(columns=['sEH','BRD4','HSA'])\n"
   ]
  },
  {
   "cell_type": "code",
   "execution_count": 28,
   "metadata": {},
   "outputs": [],
   "source": [
    "final.to_csv('308-309-310.csv')"
   ]
  }
 ],
 "metadata": {
  "kernelspec": {
   "display_name": "belka",
   "language": "python",
   "name": "python3"
  },
  "language_info": {
   "codemirror_mode": {
    "name": "ipython",
    "version": 3
   },
   "file_extension": ".py",
   "mimetype": "text/x-python",
   "name": "python",
   "nbconvert_exporter": "python",
   "pygments_lexer": "ipython3",
   "version": "3.10.13"
  }
 },
 "nbformat": 4,
 "nbformat_minor": 2
}

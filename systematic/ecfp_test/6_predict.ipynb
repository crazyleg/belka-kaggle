{
 "cells": [
  {
   "cell_type": "code",
   "execution_count": 27,
   "metadata": {},
   "outputs": [],
   "source": [
    "import xgboost as xgb\n",
    "import matplotlib.pyplot as plt\n",
    "from sklearn.metrics import average_precision_score\n",
    "import multiprocessing\n",
    "from tqdm.auto import tqdm\n",
    "import scipy.sparse as sp\n",
    "from rdkit import Chem\n",
    "import numpy as np\n",
    "from rdkit.Chem import rdFingerprintGenerator\n",
    "from wandb.integration.xgboost import WandbCallback\n",
    "import os \n",
    "import re\n",
    "import pyarrow.parquet as pq\n",
    "from scipy.sparse import coo_matrix, csr_matrix, hstack, vstack, save_npz, load_npz\n",
    "import wandb"
   ]
  },
  {
   "cell_type": "code",
   "execution_count": 28,
   "metadata": {},
   "outputs": [],
   "source": [
    "parquet_file = pq.ParquetFile('../../test.parquet')\n",
    "ecfp_gen = rdFingerprintGenerator.GetMorganGenerator(radius=3, fpSize=2048)"
   ]
  },
  {
   "cell_type": "code",
   "execution_count": 46,
   "metadata": {},
   "outputs": [],
   "source": [
    "for df in parquet_file.iter_batches():\n",
    "    df = df.to_pandas()\n",
    "    mol = [Chem.MolFromSmiles(x.replace(\"Dy\",\"C\")) for x in df['molecule_smiles']]\n",
    "    ecfp = [ecfp_gen.GetFingerprint(x).ToList() for x in mol]\n",
    "    result = csr_matrix(ecfp)\n",
    "    one_hot = np.zeros((len(df), 3))\n",
    "    one_hot[df['protein_name']==\"BRD4\",0] = 1\n",
    "    one_hot[df['protein_name']==\"HSA\",1] = 1\n",
    "    one_hot[df['protein_name']==\"sEH\",2] = 1\n",
    "    result = hstack([result, one_hot])\n",
    "    break\n",
    "    "
   ]
  },
  {
   "cell_type": "code",
   "execution_count": 49,
   "metadata": {},
   "outputs": [],
   "source": [
    "dtrain = xgb.DMatrix(result)\n"
   ]
  },
  {
   "cell_type": "code",
   "execution_count": 48,
   "metadata": {},
   "outputs": [],
   "source": [
    "xgb.model.lo"
   ]
  },
  {
   "cell_type": "code",
   "execution_count": 47,
   "metadata": {},
   "outputs": [
    {
     "data": {
      "text/plain": [
       "<65536x2051 sparse matrix of type '<class 'numpy.float64'>'\n",
       "\twith 6326773 stored elements in COOrdinate format>"
      ]
     },
     "execution_count": 47,
     "metadata": {},
     "output_type": "execute_result"
    }
   ],
   "source": [
    "result"
   ]
  },
  {
   "cell_type": "code",
   "execution_count": 34,
   "metadata": {},
   "outputs": [
    {
     "data": {
      "text/plain": [
       "(3,)"
      ]
     },
     "execution_count": 34,
     "metadata": {},
     "output_type": "execute_result"
    }
   ],
   "source": [
    "one_hot.shape"
   ]
  },
  {
   "cell_type": "code",
   "execution_count": 35,
   "metadata": {},
   "outputs": [
    {
     "data": {
      "text/plain": [
       "(1, 2048)"
      ]
     },
     "execution_count": 35,
     "metadata": {},
     "output_type": "execute_result"
    }
   ],
   "source": [
    "result.shape"
   ]
  }
 ],
 "metadata": {
  "kernelspec": {
   "display_name": "belka",
   "language": "python",
   "name": "python3"
  },
  "language_info": {
   "codemirror_mode": {
    "name": "ipython",
    "version": 3
   },
   "file_extension": ".py",
   "mimetype": "text/x-python",
   "name": "python",
   "nbconvert_exporter": "python",
   "pygments_lexer": "ipython3",
   "version": "3.10.13"
  }
 },
 "nbformat": 4,
 "nbformat_minor": 2
}

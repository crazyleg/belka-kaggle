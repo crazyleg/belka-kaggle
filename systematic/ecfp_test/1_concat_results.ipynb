{
 "cells": [
  {
   "cell_type": "code",
   "execution_count": 1,
   "metadata": {},
   "outputs": [
    {
     "name": "stderr",
     "output_type": "stream",
     "text": [
      "/home/anonymous/miniconda3/envs/belka/lib/python3.10/site-packages/tqdm/auto.py:21: TqdmWarning: IProgress not found. Please update jupyter and ipywidgets. See https://ipywidgets.readthedocs.io/en/stable/user_install.html\n",
      "  from .autonotebook import tqdm as notebook_tqdm\n"
     ]
    }
   ],
   "source": [
    "import xgboost as xgb\n",
    "import matplotlib.pyplot as plt\n",
    "from sklearn.metrics import average_precision_score\n",
    "import multiprocessing\n",
    "from tqdm.auto import tqdm\n",
    "import os\n",
    "import numpy as np\n",
    "import scipy.sparse as sp\n",
    "import re"
   ]
  },
  {
   "cell_type": "code",
   "execution_count": 2,
   "metadata": {},
   "outputs": [
    {
     "name": "stderr",
     "output_type": "stream",
     "text": [
      "100%|██████████| 62/62 [00:00<00:00, 760.70it/s]\n",
      "100%|██████████| 62/62 [00:00<00:00, 4954.97it/s]\n",
      "100%|██████████| 944/944 [00:07<00:00, 127.85it/s]\n",
      "100%|██████████| 944/944 [00:00<00:00, 2974.65it/s]\n",
      "100%|██████████| 944/944 [00:49<00:00, 18.95it/s]\n",
      "100%|██████████| 944/944 [00:02<00:00, 367.66it/s]\n"
     ]
    },
    {
     "name": "stdout",
     "output_type": "stream",
     "text": [
      "No matrices found or concatenated.\n"
     ]
    }
   ],
   "source": [
    "\n",
    "def extract_uuid(filename):\n",
    "    # UUID pattern: 8-4-4-4-12 hexadecimal characters\n",
    "    uuid_pattern = r'[0-9a-fA-F]{8}-[0-9a-fA-F]{4}-[0-9a-fA-F]{4}-[0-9a-fA-F]{4}-[0-9a-fA-F]{12}'\n",
    "    \n",
    "    # Search for the UUID pattern in the filename\n",
    "    match = re.search(uuid_pattern, filename)\n",
    "    if match:\n",
    "        return match.group()  # Return the found UUID\n",
    "    else:\n",
    "        return None  # No UUID found\n",
    "    \n",
    "def concat_and_save(prefix, directory, resulting_file):\n",
    "    files = [f for f in os.listdir(directory) if f.endswith('.npz') and f.startswith(prefix)]\n",
    "    uuids = [extract_uuid(x) for x in files]\n",
    "\n",
    "    # Initialize a list to hold the loaded sparse matrices\n",
    "    matrices = []\n",
    "    \n",
    "    # Load each matrix and append to the list\n",
    "    for file in tqdm(uuids):\n",
    "        file_path = os.path.join(directory, prefix+file+'.npz')\n",
    "        matrix = sp.load_npz(file_path)\n",
    "        matrices.append(matrix)\n",
    "    \n",
    "    # Concatenate all COO matrices over rows\n",
    "    concatenated_matrix = sp.vstack(matrices, format='coo')\n",
    "    sp.save_npz(f'/mnt/fastssd/belka_data/ready_data/{resulting_file}_m', concatenated_matrix)\n",
    "\n",
    "    files = [f for f in os.listdir(directory) if f.endswith('.npy') and f.startswith(prefix)]\n",
    "    # Initialize a list to hold the loaded sparse matrices\n",
    "    matrices = []\n",
    "    \n",
    "    # Load each matrix and append to the list\n",
    "    for file in tqdm(uuids):\n",
    "        file_path = os.path.join(directory, prefix+file+'.npl.npy')\n",
    "        matrix = np.load(file_path)\n",
    "        matrices.append(matrix)\n",
    "    \n",
    "    # Concatenate all COO matrices over rows\n",
    "    concatenated_matrix = np.hstack(matrices)\n",
    "    np.save(f'/mnt/fastssd/belka_data/ready_data/{resulting_file}_t', concatenated_matrix)\n",
    "\n",
    "\n",
    "def concatenate_coo_matrices(directory):\n",
    "    # List all .npz files in the specified directory\n",
    "    concat_and_save('unique_test_', directory,'unique_test_')\n",
    "    concat_and_save('random_test_', directory,'random_test_')\n",
    "    concat_and_save('train_', directory,'train_')\n",
    "    \n",
    "\n",
    "# Example usage\n",
    "directory_path = '/mnt/fastssd/belka_data/train_split_test/'\n",
    "concatenated_matrix = concatenate_coo_matrices(directory_path)\n",
    "if concatenated_matrix is not None:\n",
    "    print(\"Successfully concatenated COO matrices.\")\n",
    "    print(concatenated_matrix)\n",
    "else:\n",
    "    print(\"No matrices found or concatenated.\")"
   ]
  }
 ],
 "metadata": {
  "kernelspec": {
   "display_name": "belka",
   "language": "python",
   "name": "python3"
  },
  "language_info": {
   "codemirror_mode": {
    "name": "ipython",
    "version": 3
   },
   "file_extension": ".py",
   "mimetype": "text/x-python",
   "name": "python",
   "nbconvert_exporter": "python",
   "pygments_lexer": "ipython3",
   "version": "3.10.13"
  }
 },
 "nbformat": 4,
 "nbformat_minor": 2
}

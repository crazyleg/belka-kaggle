{
 "cells": [
  {
   "cell_type": "code",
   "execution_count": 90,
   "metadata": {},
   "outputs": [],
   "source": [
    "import numpy as np\n",
    "import pyarrow.parquet as pq\n",
    "import pandas as pd\n",
    "import pickle\n",
    "from tqdm.auto import tqdm\n",
    "from rdkit import Chem\n",
    "from rdkit.Chem import AllChem, MACCSkeys\n",
    "import pyarrow.compute as pc\n",
    "from scipy.sparse import coo_matrix, csr_matrix, hstack, vstack, save_npz\n",
    "from rdkit.Chem import rdFingerprintGenerator"
   ]
  },
  {
   "cell_type": "code",
   "execution_count": 91,
   "metadata": {},
   "outputs": [
    {
     "name": "stderr",
     "output_type": "stream",
     "text": [
      "0it [00:00, ?it/s]"
     ]
    },
    {
     "name": "stderr",
     "output_type": "stream",
     "text": [
      "0it [00:02, ?it/s]\n"
     ]
    }
   ],
   "source": [
    "parquet_file = pq.ParquetFile('../../train.parquet')\n",
    "ecfp_gen = rdFingerprintGenerator.GetMorganGenerator(radius=2, fpSize=2048)\n",
    "\n",
    "with open('../split_generation/block_splits.pkl', 'rb') as f:\n",
    "    ((split1_block1, split2_block1, split3_block1, split4_block1, split5_block1), (split1_block23, split2_block23, split3_block23, split4_block23, split5_block23)) = pickle.load(f)\n",
    "\n",
    "for x in tqdm(parquet_file.iter_batches(batch_size=100000)):\n",
    "    x = x.to_pandas()\n",
    "    x_neg = x[x['binds']==0].sample(frac=0.05, replace=False, random_state=1)\n",
    "    x = pd.concat([x[x['binds']==1], x_neg]).drop_duplicates()\n",
    "    # x_test x[x['buildingblock1_smiles'].isin(split1_block1) & x['buildingblock2_smiles'].isin(split1_block23) & x['buildingblock3_smiles'].isin(split1_block23)]\n",
    "    mol = [Chem.MolFromSmiles(x.replace(\"Dy\",\"C\")) for x in x['molecule_smiles']]\n",
    "    ecfp = [ecfp_gen.GetFingerprint(x).ToList() for x in mol]\n",
    "    result = csr_matrix(ecfp)\n",
    "    one_hot = np.zeros((len(x), 3))\n",
    "    one_hot[x['protein_name']==\"BRD4\",0] = 1\n",
    "    one_hot[x['protein_name']==\"HSA\",1] = 1\n",
    "    one_hot[x['protein_name']==\"sEH\",2] = 1\n",
    "    result = hstack([result, one_hot, np.expand_dims(x['binds'],1)])\n",
    "    save_npz('test.npz', result)\n",
    "    break"
   ]
  },
  {
   "cell_type": "code",
   "execution_count": 86,
   "metadata": {},
   "outputs": [
    {
     "data": {
      "text/plain": [
       "<510x2052 sparse matrix of type '<class 'numpy.float64'>'\n",
       "\twith 34015 stored elements in COOrdinate format>"
      ]
     },
     "execution_count": 86,
     "metadata": {},
     "output_type": "execute_result"
    }
   ],
   "source": [
    "result"
   ]
  },
  {
   "cell_type": "code",
   "execution_count": 83,
   "metadata": {},
   "outputs": [
    {
     "data": {
      "text/html": [
       "<div>\n",
       "<style scoped>\n",
       "    .dataframe tbody tr th:only-of-type {\n",
       "        vertical-align: middle;\n",
       "    }\n",
       "\n",
       "    .dataframe tbody tr th {\n",
       "        vertical-align: top;\n",
       "    }\n",
       "\n",
       "    .dataframe thead th {\n",
       "        text-align: right;\n",
       "    }\n",
       "</style>\n",
       "<table border=\"1\" class=\"dataframe\">\n",
       "  <thead>\n",
       "    <tr style=\"text-align: right;\">\n",
       "      <th></th>\n",
       "      <th>id</th>\n",
       "      <th>buildingblock1_smiles</th>\n",
       "      <th>buildingblock2_smiles</th>\n",
       "      <th>buildingblock3_smiles</th>\n",
       "      <th>molecule_smiles</th>\n",
       "      <th>protein_name</th>\n",
       "      <th>binds</th>\n",
       "    </tr>\n",
       "  </thead>\n",
       "  <tbody>\n",
       "  </tbody>\n",
       "</table>\n",
       "</div>"
      ],
      "text/plain": [
       "Empty DataFrame\n",
       "Columns: [id, buildingblock1_smiles, buildingblock2_smiles, buildingblock3_smiles, molecule_smiles, protein_name, binds]\n",
       "Index: []"
      ]
     },
     "execution_count": 83,
     "metadata": {},
     "output_type": "execute_result"
    }
   ],
   "source": [
    "x[x['buildingblock1_smiles'].isin(split1_block1) & x['buildingblock2_smiles'].isin(split1_block23) & x['buildingblock3_smiles'].isin(split1_block23)]"
   ]
  }
 ],
 "metadata": {
  "kernelspec": {
   "display_name": "belka",
   "language": "python",
   "name": "python3"
  },
  "language_info": {
   "codemirror_mode": {
    "name": "ipython",
    "version": 3
   },
   "file_extension": ".py",
   "mimetype": "text/x-python",
   "name": "python",
   "nbconvert_exporter": "python",
   "pygments_lexer": "ipython3",
   "version": "3.10.13"
  }
 },
 "nbformat": 4,
 "nbformat_minor": 2
}

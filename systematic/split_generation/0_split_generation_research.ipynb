{
 "cells": [
  {
   "cell_type": "code",
   "execution_count": 2,
   "metadata": {},
   "outputs": [],
   "source": [
    "import numpy as np\n",
    "import pyarrow.parquet as pq\n",
    "import pandas as pd\n",
    "import pyarrow.compute as pc"
   ]
  },
  {
   "cell_type": "code",
   "execution_count": 3,
   "metadata": {},
   "outputs": [
    {
     "name": "stdout",
     "output_type": "stream",
     "text": [
      "<pyarrow._parquet.ParquetSchema object at 0x7341a41a4d40>\n",
      "required group field_id=-1 schema {\n",
      "  optional int64 field_id=-1 id;\n",
      "  optional binary field_id=-1 buildingblock1_smiles (String);\n",
      "  optional binary field_id=-1 buildingblock2_smiles (String);\n",
      "  optional binary field_id=-1 buildingblock3_smiles (String);\n",
      "  optional binary field_id=-1 molecule_smiles (String);\n",
      "  optional binary field_id=-1 protein_name (String);\n",
      "  optional int64 field_id=-1 binds;\n",
      "}\n",
      "\n"
     ]
    }
   ],
   "source": [
    "parquet_file = pq.ParquetFile('../../train.parquet')\n",
    "total_records = parquet_file.metadata.num_rows\n",
    "# Optionally, you can inspect the schema to confirm field names and types\n",
    "print(parquet_file.schema)\n",
    "\n",
    "column_data = parquet_file.read(columns=['buildingblock1_smiles'])\n",
    "unique_values = pc.unique(column_data.column(0))\n",
    "unique_list1_train = unique_values.to_pylist()\n",
    "\n",
    "column_data = parquet_file.read(columns=['buildingblock2_smiles'])\n",
    "unique_values = pc.unique(column_data.column(0))\n",
    "unique_list2_train = unique_values.to_pylist()\n",
    "\n",
    "column_data = parquet_file.read(columns=['buildingblock3_smiles'])\n",
    "unique_values = pc.unique(column_data.column(0))\n",
    "unique_list3_train = unique_values.to_pylist()"
   ]
  },
  {
   "cell_type": "code",
   "execution_count": 4,
   "metadata": {},
   "outputs": [],
   "source": [
    "import pickle\n",
    "with open('../../unique_blocks.pkl','wb') as f:\n",
    "    pickle.dump((unique_list1_train, unique_list2_train, unique_list3_train), f)"
   ]
  },
  {
   "cell_type": "code",
   "execution_count": 13,
   "metadata": {},
   "outputs": [],
   "source": [
    "import random\n",
    "random.shuffle(unique_list1_train)\n",
    "split1_block1 = unique_list1_train[0:15] \n",
    "split2_block1 = unique_list1_train[15:30] \n",
    "split3_block1 = unique_list1_train[30:45] \n",
    "split4_block1 = unique_list1_train[45:60] \n",
    "split5_block1 = unique_list1_train[60:75] "
   ]
  },
  {
   "cell_type": "code",
   "execution_count": 14,
   "metadata": {},
   "outputs": [
    {
     "data": {
      "text/plain": [
       "['O=C(O)C1c2ccccc2CN1C(=O)OCC1c2ccccc2-c2ccccc21',\n",
       " 'CC(C)(C)OCC(NC(=O)OCC1c2ccccc2-c2ccccc21)C(=O)O',\n",
       " 'O=C(Nc1ccc(F)c(C(=O)O)c1F)OCC1c2ccccc2-c2ccccc21',\n",
       " 'O=C(O)C[C@H](C/C=C/c1ccccc1)NC(=O)OCC1c2ccccc2-c2ccccc21',\n",
       " 'O=C(Nc1c(F)cccc1C(=O)O)OCC1c2ccccc2-c2ccccc21',\n",
       " 'O=C(Nc1nc2ccc(C(=O)O)cc2s1)OCC1c2ccccc2-c2ccccc21',\n",
       " 'O=C(O)C[C@@H](Cc1ccc([N+](=O)[O-])cc1)NC(=O)OCC1c2ccccc2-c2ccccc21',\n",
       " 'CCC(C)C(NC(=O)OCC1c2ccccc2-c2ccccc21)C(=O)O',\n",
       " 'O=C(O)C[C@@H](Cc1ccccc1Cl)NC(=O)OCC1c2ccccc2-c2ccccc21',\n",
       " 'C#CC[C@H](NC(=O)OCC1c2ccccc2-c2ccccc21)C(=O)O',\n",
       " 'O=C(N[C@H](Cc1cc(F)cc(F)c1)C(=O)O)OCC1c2ccccc2-c2ccccc21',\n",
       " 'O=C(Nc1ccc(C(=O)O)c(C(F)(F)F)c1)OCC1c2ccccc2-c2ccccc21',\n",
       " 'O=C(NC1(C(=O)O)CC1)OCC1c2ccccc2-c2ccccc21',\n",
       " 'O=C(Nc1c(I)cccc1C(=O)O)OCC1c2ccccc2-c2ccccc21',\n",
       " 'COc1cccc(NC(=O)OCC2c3ccccc3-c3ccccc32)c1C(=O)O',\n",
       " 'O=C(Nc1ncc(Br)cc1C(=O)O)OCC1c2ccccc2-c2ccccc21',\n",
       " 'C=CCC(CC=C)(NC(=O)OCC1c2ccccc2-c2ccccc21)C(=O)O',\n",
       " 'O=C(O)C1CN(C(=O)OCC2c3ccccc3-c3ccccc32)C1',\n",
       " 'N#Cc1ccc(C[C@H](NC(=O)OCC2c3ccccc3-c3ccccc32)C(=O)O)cc1',\n",
       " 'O=C(Nc1cnc(Cl)cc1C(=O)O)OCC1c2ccccc2-c2ccccc21',\n",
       " 'Cn1cc(C[C@@H](NC(=O)OCC2c3ccccc3-c3ccccc32)C(=O)O)c2ccccc21',\n",
       " 'N#Cc1ccc(NC(=O)OCC2c3ccccc3-c3ccccc32)c(C(=O)O)c1',\n",
       " 'O=C(N[C@@H](CC1CC1)C(=O)O)OCC1c2ccccc2-c2ccccc21',\n",
       " 'O=C(O)C[C@@H](Cc1ccc(Cl)c(Cl)c1)NC(=O)OCC1c2ccccc2-c2ccccc21',\n",
       " 'O=C(Nc1c(F)ccc(Br)c1C(=O)O)OCC1c2ccccc2-c2ccccc21',\n",
       " 'O=C(N[C@@H](Cc1ccc(F)c(F)c1)C(=O)O)OCC1c2ccccc2-c2ccccc21',\n",
       " 'C=CC[C@@H](NC(=O)OCC1c2ccccc2-c2ccccc21)C(=O)O',\n",
       " 'C#CC[C@H](CC(=O)O)NC(=O)OCC1c2ccccc2-c2ccccc21',\n",
       " 'O=C(O)C[C@@H](Cc1cccc(F)c1)NC(=O)OCC1c2ccccc2-c2ccccc21',\n",
       " 'O=C(N[C@@H](Cc1ccc(Br)cc1)C(=O)O)OCC1c2ccccc2-c2ccccc21',\n",
       " 'O=C(Nc1cc2ccccc2cc1C(=O)O)OCC1c2ccccc2-c2ccccc21',\n",
       " 'O=C(Nc1cc(I)ccc1C(=O)O)OCC1c2ccccc2-c2ccccc21',\n",
       " 'O=C(O)[C@@H]1CCCN1C(=O)[C@@H]1CCCN1C(=O)OCC1c2ccccc2-c2ccccc21',\n",
       " 'O=C(Nc1ccc(C(=O)O)cc1Cl)OCC1c2ccccc2-c2ccccc21',\n",
       " 'O=C(N[C@H](Cc1ccccc1Cl)C(=O)O)OCC1c2ccccc2-c2ccccc21',\n",
       " 'O=C(O)C[C@H](Cc1cccs1)NC(=O)OCC1c2ccccc2-c2ccccc21',\n",
       " 'O=C(Nc1cc(F)c(F)cc1C(=O)O)OCC1c2ccccc2-c2ccccc21',\n",
       " 'O=C(Nc1ccc(C(=O)O)cc1O)OCC1c2ccccc2-c2ccccc21',\n",
       " 'O=C(O)C[C@@H](NC(=O)OCC1c2ccccc2-c2ccccc21)c1ccc(Cl)cc1',\n",
       " 'O=C(O)C[C@H](Cc1ccc(Cl)c(Cl)c1)NC(=O)OCC1c2ccccc2-c2ccccc21',\n",
       " 'O=C(Nc1cnccc1C(=O)O)OCC1c2ccccc2-c2ccccc21',\n",
       " 'O=C(O)[C@@H]1Cc2ccc(O)cc2CN1C(=O)OCC1c2ccccc2-c2ccccc21',\n",
       " 'O=C(O)[C@@H]1CCCCN1C(=O)OCC1c2ccccc2-c2ccccc21',\n",
       " 'O=C(Nc1nc2ncc(CNc3ccc(C(=O)O)cc3)nc2c(=O)[nH]1)OCC1c2ccccc2-c2ccccc21',\n",
       " 'O=C(Nc1ccc(C(=O)O)c(Cl)c1)OCC1c2ccccc2-c2ccccc21',\n",
       " 'O=C(Nc1c(C(=O)O)cnn1-c1ccc(F)cc1)OCC1c2ccccc2-c2ccccc21',\n",
       " 'O=C(Nc1cc(Br)cnc1C(=O)O)OCC1c2ccccc2-c2ccccc21',\n",
       " 'Cc1cc(C)c(NC(=O)OCC2c3ccccc3-c3ccccc32)c(C(=O)O)c1',\n",
       " 'O=C(N[C@H](CCC1CCCCC1)C(=O)O)OCC1c2ccccc2-c2ccccc21',\n",
       " 'O=C(O)[C@@H]1Cc2ccccc2CN1C(=O)OCC1c2ccccc2-c2ccccc21',\n",
       " 'Cc1ccc(C(CC(=O)O)NC(=O)OCC2c3ccccc3-c3ccccc32)cc1',\n",
       " 'O=C(Nc1ccc(Br)cc1C(=O)O)OCC1c2ccccc2-c2ccccc21',\n",
       " 'O=C(Nc1cc([N+](=O)[O-])ccc1C(=O)O)OCC1c2ccccc2-c2ccccc21',\n",
       " 'O=C(O)C[C@@H](Cc1ccc(Cl)cc1Cl)NC(=O)OCC1c2ccccc2-c2ccccc21',\n",
       " 'O=C(Nc1cc(Cl)ncc1C(=O)O)OCC1c2ccccc2-c2ccccc21',\n",
       " 'O=C(NC1(C(=O)O)CCc2ccccc21)OCC1c2ccccc2-c2ccccc21',\n",
       " 'O=C(Nc1ccc(C(=O)O)cn1)OCC1c2ccccc2-c2ccccc21',\n",
       " 'O=C(O)CC(NC(=O)OCC1c2ccccc2-c2ccccc21)c1ccc(Br)cc1',\n",
       " 'CC(C)(C)OC(=O)CCC(NC(=O)OCC1c2ccccc2-c2ccccc21)C(=O)O',\n",
       " 'O=C(O)C[C@@H](NC(=O)OCC1c2ccccc2-c2ccccc21)c1cccs1',\n",
       " 'O=C(Nc1cc(C(=O)O)ccc1Cl)OCC1c2ccccc2-c2ccccc21',\n",
       " 'O=C(N[C@@H](Cc1ccc(Cl)cc1Cl)C(=O)O)OCC1c2ccccc2-c2ccccc21',\n",
       " 'O=C(NC1(C(=O)O)CCCC1)OCC1c2ccccc2-c2ccccc21',\n",
       " 'O=C(Nc1cc(C(=O)O)ccc1C(=O)O)OCC1c2ccccc2-c2ccccc21',\n",
       " 'O=C(Nc1cccc(I)c1C(=O)O)OCC1c2ccccc2-c2ccccc21',\n",
       " 'N#Cc1cccc(C[C@H](CC(=O)O)NC(=O)OCC2c3ccccc3-c3ccccc32)c1',\n",
       " 'O=C(Nc1cncc(C(=O)O)n1)OCC1c2ccccc2-c2ccccc21',\n",
       " 'O=C(O)C[C@@H](NC(=O)OCC1c2ccccc2-c2ccccc21)c1ccc(C(F)(F)F)cc1',\n",
       " 'O=C(Nc1cccc(C(=O)O)c1C(=O)O)OCC1c2ccccc2-c2ccccc21',\n",
       " 'CN(C(=O)OCC1c2ccccc2-c2ccccc21)[C@@H](CC1CCCCC1)C(=O)O',\n",
       " 'O=C(Nc1ccccc1C(=O)c1ccccc1C(=O)O)OCC1c2ccccc2-c2ccccc21',\n",
       " 'CS(=O)(=O)c1ccc(C(=O)O)c(NC(=O)OCC2c3ccccc3-c3ccccc32)c1',\n",
       " 'Cc1ccc(NC(=O)OCC2c3ccccc3-c3ccccc32)c(C(=O)O)c1',\n",
       " 'O=C(N[C@@H](Cc1cscn1)C(=O)O)OCC1c2ccccc2-c2ccccc21',\n",
       " 'O=C(Nc1ccc(C(=O)O)cc1OC(F)(F)F)OCC1c2ccccc2-c2ccccc21',\n",
       " 'O=C(N[C@H](Cc1ccc(Cl)c(Cl)c1)C(=O)O)OCC1c2ccccc2-c2ccccc21',\n",
       " 'O=C(O)C[C@@H](Cc1cccs1)NC(=O)OCC1c2ccccc2-c2ccccc21',\n",
       " 'O=C(O)C[C@H](Cc1c(F)c(F)c(F)c(F)c1F)NC(=O)OCC1c2ccccc2-c2ccccc21',\n",
       " 'Cc1ccc(C(=O)O)c(NC(=O)OCC2c3ccccc3-c3ccccc32)c1C',\n",
       " 'O=C(Nc1ccc2cc(C(=O)O)ccc2c1)OCC1c2ccccc2-c2ccccc21',\n",
       " 'N#Cc1ccc([C@H](CC(=O)O)NC(=O)OCC2c3ccccc3-c3ccccc32)cc1',\n",
       " 'O=C(N[C@H](C(=O)O)C1CC1)OCC1c2ccccc2-c2ccccc21',\n",
       " 'COc1nccc(C(=O)O)c1NC(=O)OCC1c2ccccc2-c2ccccc21',\n",
       " 'CSc1ncc(NC(=O)OCC2c3ccccc3-c3ccccc32)c(C(=O)O)n1',\n",
       " 'O=C(O)C[C@H](Cc1ccc(F)cc1)NC(=O)OCC1c2ccccc2-c2ccccc21',\n",
       " 'O=C(Nc1nc(C(F)(F)F)c(C(=O)O)s1)OCC1c2ccccc2-c2ccccc21',\n",
       " 'O=C(Nc1cc(Br)cc(C(=O)O)c1)OCC1c2ccccc2-c2ccccc21',\n",
       " 'O=C(N[C@H](Cc1ccc(C(F)(F)F)cc1)C(=O)O)OCC1c2ccccc2-c2ccccc21',\n",
       " 'COC(=O)c1ccc(C(=O)O)c(NC(=O)OCC2c3ccccc3-c3ccccc32)c1',\n",
       " 'O=C(Nc1cc(Br)c(Cl)cc1C(=O)O)OCC1c2ccccc2-c2ccccc21',\n",
       " 'O=C(O)COC[C@H]1CCCN1C(=O)OCC1c2ccccc2-c2ccccc21',\n",
       " 'O=C(Nc1ccc(I)cc1C(=O)O)OCC1c2ccccc2-c2ccccc21',\n",
       " 'O=C(Nc1ncc(Br)nc1C(=O)O)OCC1c2ccccc2-c2ccccc21',\n",
       " 'O=C(N[C@@H](Cc1ccc(Cl)c(Cl)c1)C(=O)O)OCC1c2ccccc2-c2ccccc21',\n",
       " 'O=C(O)C[C@@H](Cc1ccc(I)cc1)NC(=O)OCC1c2ccccc2-c2ccccc21',\n",
       " 'COc1cc(C(=O)O)c(NC(=O)OCC2c3ccccc3-c3ccccc32)cn1',\n",
       " 'C#CC[C@@H](NC(=O)OCC1c2ccccc2-c2ccccc21)C(=O)O',\n",
       " 'O=C(Nc1cccc(Cl)c1C(=O)O)OCC1c2ccccc2-c2ccccc21',\n",
       " 'O=C(O)C[C@H]1CCCN1C(=O)OCC1c2ccccc2-c2ccccc21',\n",
       " 'O=C(N[C@H](C(=O)O)C1CCCCC1)OCC1c2ccccc2-c2ccccc21',\n",
       " 'O=C(O)[C@@H]1CSCN1C(=O)OCC1c2ccccc2-c2ccccc21',\n",
       " 'Cc1ccccc1[C@@H](CC(=O)O)NC(=O)OCC1c2ccccc2-c2ccccc21',\n",
       " 'O=C(O)[C@H]1CCCCN1C(=O)OCC1c2ccccc2-c2ccccc21',\n",
       " 'O=C(O)C[C@H](Cc1ccc(Cl)cc1)NC(=O)OCC1c2ccccc2-c2ccccc21',\n",
       " 'O=C(NCC1CCC(C(=O)O)CC1)OCC1c2ccccc2-c2ccccc21',\n",
       " 'O=C(Nc1ccc(Br)c(C(=O)O)c1)OCC1c2ccccc2-c2ccccc21',\n",
       " 'O=C(Nc1c(Br)cc(C(=O)O)cc1Br)OCC1c2ccccc2-c2ccccc21',\n",
       " 'O=C(Nc1ccnc(C(=O)O)c1)OCC1c2ccccc2-c2ccccc21',\n",
       " 'O=C(O)CC1(CNC(=O)OCC2c3ccccc3-c3ccccc32)CCCCC1',\n",
       " 'COc1c(F)ccc(C(=O)O)c1NC(=O)OCC1c2ccccc2-c2ccccc21',\n",
       " 'O=C(Nc1c(Cl)cc(F)cc1C(=O)O)OCC1c2ccccc2-c2ccccc21',\n",
       " 'COc1cccc(C(=O)O)c1NC(=O)OCC1c2ccccc2-c2ccccc21',\n",
       " 'O=C(N[C@@H](Cc1ccc(I)cc1)C(=O)O)OCC1c2ccccc2-c2ccccc21',\n",
       " 'O=C(Nc1cccc([N+](=O)[O-])c1C(=O)O)OCC1c2ccccc2-c2ccccc21',\n",
       " 'O=C(Nc1c(Br)cccc1C(=O)O)OCC1c2ccccc2-c2ccccc21',\n",
       " 'CCOc1cc(NC(=O)OCC2c3ccccc3-c3ccccc32)c(Cl)cc1C(=O)O',\n",
       " 'O=C(Nc1cc(F)cc(F)c1C(=O)O)OCC1c2ccccc2-c2ccccc21',\n",
       " 'O=C(Nc1ccc([N+](=O)[O-])cc1C(=O)O)OCC1c2ccccc2-c2ccccc21',\n",
       " 'O=C(Nc1cccc(-c2cccc(C(=O)O)c2)c1O)OCC1c2ccccc2-c2ccccc21',\n",
       " 'CC(C)(C)OC(=O)N1C[C@@H](NC(=O)OCC2c3ccccc3-c3ccccc32)[C@H](C(=O)O)C1',\n",
       " 'Cc1cccc(C(=O)O)c1NC(=O)OCC1c2ccccc2-c2ccccc21',\n",
       " 'O=C(O)C[C@H](Cc1ccc(C(F)(F)F)cc1)NC(=O)OCC1c2ccccc2-c2ccccc21',\n",
       " 'O=C(N[C@@H](Cc1c(F)c(F)c(F)c(F)c1F)C(=O)O)OCC1c2ccccc2-c2ccccc21',\n",
       " 'CC(C)(C)OC(=O)CC(NC(=O)OCC1c2ccccc2-c2ccccc21)C(=O)O',\n",
       " 'O=C(O)C1CCCN1C(=O)OCC1c2ccccc2-c2ccccc21',\n",
       " 'O=C(Nc1ccc(C(=O)O)cc1)OCC1c2ccccc2-c2ccccc21',\n",
       " 'N#Cc1ccc(C[C@H](CC(=O)O)NC(=O)OCC2c3ccccc3-c3ccccc32)cc1',\n",
       " 'O=C(Nc1c(C(=O)O)ccc2ccccc12)OCC1c2ccccc2-c2ccccc21',\n",
       " 'O=C(Nc1c(F)cc(Br)cc1C(=O)O)OCC1c2ccccc2-c2ccccc21',\n",
       " 'O=C(Nc1c(OC(F)(F)F)cccc1C(=O)O)OCC1c2ccccc2-c2ccccc21',\n",
       " 'O=C(O)C[C@@H]1CCCN1C(=O)OCC1c2ccccc2-c2ccccc21',\n",
       " 'O=C(O)C[C@@H](Cc1ccc(C(F)(F)F)cc1)NC(=O)OCC1c2ccccc2-c2ccccc21',\n",
       " 'O=C(Nc1cc(Cl)cc(C(=O)O)c1)OCC1c2ccccc2-c2ccccc21',\n",
       " 'COc1cc(NC(=O)OCC2c3ccccc3-c3ccccc32)c(C(=O)O)c(OC)c1',\n",
       " 'O=C(O)C[C@H](Cc1ccc([N+](=O)[O-])cc1)NC(=O)OCC1c2ccccc2-c2ccccc21',\n",
       " 'O=C(O)C[C@H](NC(=O)OCC1c2ccccc2-c2ccccc21)c1ccc(F)cc1',\n",
       " 'O=C(Nc1c(Cl)c(Cl)nc(C(=O)O)c1Cl)OCC1c2ccccc2-c2ccccc21',\n",
       " 'O=C(NC(CC1CCCCC1)C(=O)O)OCC1c2ccccc2-c2ccccc21',\n",
       " 'O=C(O)COc1cccc(-c2csc(NC(=O)OCC3c4ccccc4-c4ccccc43)n2)c1',\n",
       " 'C#CC[C@@H](CC(=O)O)NC(=O)OCC1c2ccccc2-c2ccccc21',\n",
       " 'O=C(Nc1c(C(=O)O)cc(Cl)c(Br)c1F)OCC1c2ccccc2-c2ccccc21',\n",
       " 'O=C(Nc1ccc(C(=O)O)cc1F)OCC1c2ccccc2-c2ccccc21',\n",
       " 'O=C(O)[C@@H]1Cc2ccccc2N1C(=O)OCC1c2ccccc2-c2ccccc21',\n",
       " 'O=C(N[C@@H](Cc1ccc([N+](=O)[O-])cc1)C(=O)O)OCC1c2ccccc2-c2ccccc21',\n",
       " 'O=C(Nc1ccc(C(=O)O)nc1)OCC1c2ccccc2-c2ccccc21',\n",
       " 'O=C(Nc1ccc(Cl)c(C(=O)O)c1)OCC1c2ccccc2-c2ccccc21',\n",
       " 'O=C(N[C@@H](Cc1ccccc1F)C(=O)O)OCC1c2ccccc2-c2ccccc21',\n",
       " 'COc1ccc(NC(=O)OCC2c3ccccc3-c3ccccc32)c(C(=O)O)c1',\n",
       " 'COc1ccc(C(=O)O)c(NC(=O)OCC2c3ccccc3-c3ccccc32)c1',\n",
       " 'O=C(Nc1cc(C(=O)O)ccc1C(F)(F)F)OCC1c2ccccc2-c2ccccc21',\n",
       " 'O=C(N[C@@H](C(=O)O)C1CCCCC1)OCC1c2ccccc2-c2ccccc21',\n",
       " 'Cc1cc(Br)cc(C(=O)O)c1NC(=O)OCC1c2ccccc2-c2ccccc21',\n",
       " 'Cc1cc(C(=O)O)ccc1NC(=O)OCC1c2ccccc2-c2ccccc21',\n",
       " 'O=C(N[C@H](Cc1csc2ccccc12)C(=O)O)OCC1c2ccccc2-c2ccccc21',\n",
       " 'O=C(Nc1cc(Cl)nc(C(=O)O)c1Cl)OCC1c2ccccc2-c2ccccc21',\n",
       " 'O=C(O)C[C@H](Cc1ccc(I)cc1)NC(=O)OCC1c2ccccc2-c2ccccc21',\n",
       " 'O=C(O)[C@H]1CCN1C(=O)OCC1c2ccccc2-c2ccccc21',\n",
       " 'O=C(N[C@@H](Cc1ccc(F)cc1)C(=O)O)OCC1c2ccccc2-c2ccccc21',\n",
       " 'O=C(Nc1ccc([N+](=O)[O-])c(C(=O)O)c1)OCC1c2ccccc2-c2ccccc21',\n",
       " 'O=C(N[C@H]1CCC[C@@H]1C(=O)O)OCC1c2ccccc2-c2ccccc21',\n",
       " 'O=C(N[C@H](Cc1ccc(Cl)cc1)C(=O)O)OCC1c2ccccc2-c2ccccc21',\n",
       " 'O=C(Nc1c(C(=O)O)ccc(Br)c1F)OCC1c2ccccc2-c2ccccc21',\n",
       " '[N-]=[N+]=NCCC[C@H](NC(=O)OCC1c2ccccc2-c2ccccc21)C(=O)O',\n",
       " 'COc1cc(NC(=O)OCC2c3ccccc3-c3ccccc32)c(C(=O)O)cc1OC',\n",
       " 'O=C(O)C[C@H](Cc1ccc(Br)cc1)NC(=O)OCC1c2ccccc2-c2ccccc21',\n",
       " 'O=C(Nc1cc(Br)ccc1C(=O)O)OCC1c2ccccc2-c2ccccc21',\n",
       " 'O=C(O)[C@H]1Cc2ccccc2CN1C(=O)OCC1c2ccccc2-c2ccccc21',\n",
       " 'O=C(N[C@@H](C/C=C/c1ccccc1)C(=O)O)OCC1c2ccccc2-c2ccccc21',\n",
       " 'COc1cc(C(=O)O)c(N)cc1NC(=O)OCC1c2ccccc2-c2ccccc21',\n",
       " 'O=C(Nc1cc(C(=O)O)ccc1Br)OCC1c2ccccc2-c2ccccc21',\n",
       " 'O=C(Nc1nc2cc(C(=O)O)ccc2[nH]1)OCC1c2ccccc2-c2ccccc21',\n",
       " 'O=C(O)C[C@@H](Cc1ccc(Cl)cc1)NC(=O)OCC1c2ccccc2-c2ccccc21',\n",
       " 'O=C(Nc1cc(Cl)ccc1C(=O)O)OCC1c2ccccc2-c2ccccc21',\n",
       " 'O=C(Nc1c(Cl)cc(Cl)nc1C(=O)O)OCC1c2ccccc2-c2ccccc21',\n",
       " 'O=C(Nc1ccc(Cl)cc1C(=O)O)OCC1c2ccccc2-c2ccccc21',\n",
       " 'O=C(NC(Cc1ccccc1)C(=O)O)OCC1c2ccccc2-c2ccccc21',\n",
       " 'O=C(Nc1ccc(Cl)nc1C(=O)O)OCC1c2ccccc2-c2ccccc21',\n",
       " 'CCc1cccc(NC(=O)OCC2c3ccccc3-c3ccccc32)c1C(=O)O',\n",
       " 'O=C(Nc1cccc(F)c1C(=O)O)OCC1c2ccccc2-c2ccccc21',\n",
       " 'O=C(Nc1cccc(C(=O)O)c1)OCC1c2ccccc2-c2ccccc21',\n",
       " 'Cc1c(Br)ccc(C(=O)O)c1NC(=O)OCC1c2ccccc2-c2ccccc21',\n",
       " 'O=C(N[C@H](C(=O)O)c1ccsc1)OCC1c2ccccc2-c2ccccc21',\n",
       " 'O=C(O)C[C@@H](Cc1ccc(F)cc1)NC(=O)OCC1c2ccccc2-c2ccccc21',\n",
       " 'C#CC[C@@](C)(NC(=O)OCC1c2ccccc2-c2ccccc21)C(=O)O',\n",
       " 'CC(=O)c1ccc(C[C@H](NC(=O)OCC2c3ccccc3-c3ccccc32)C(=O)O)cc1',\n",
       " 'COC(=O)CC(NC(=O)OCC1c2ccccc2-c2ccccc21)C(=O)O',\n",
       " 'O=C(Nc1cc(F)ccc1C(=O)O)OCC1c2ccccc2-c2ccccc21',\n",
       " 'CCS(=O)(=O)c1cc(C(=O)O)c(OC)cc1NC(=O)OCC1c2ccccc2-c2ccccc21',\n",
       " 'O=C(O)C[C@H]1Cc2ccccc2CN1C(=O)OCC1c2ccccc2-c2ccccc21',\n",
       " 'Cc1cc(Cl)cc(C(=O)O)c1NC(=O)OCC1c2ccccc2-c2ccccc21',\n",
       " 'C[C@@]1(C(=O)O)CCCN1C(=O)OCC1c2ccccc2-c2ccccc21',\n",
       " 'O=C(Nc1c(Br)cc(F)cc1C(=O)O)OCC1c2ccccc2-c2ccccc21',\n",
       " 'O=C(Nc1c(C(=O)O)cnn1CCO)OCC1c2ccccc2-c2ccccc21',\n",
       " 'O=C(N[C@@H](Cc1ccco1)C(=O)O)OCC1c2ccccc2-c2ccccc21',\n",
       " 'O=C(O)[C@@H]1C[C@@H]2CCCC[C@@H]2N1C(=O)OCC1c2ccccc2-c2ccccc21',\n",
       " 'N#Cc1ccc(C[C@@H](CC(=O)O)NC(=O)OCC2c3ccccc3-c3ccccc32)cc1',\n",
       " 'O=C(Nc1c(I)c(C(=O)O)c(I)c(C(=O)O)c1I)OCC1c2ccccc2-c2ccccc21',\n",
       " 'O=C(N[C@@H](Cc1csc2ccccc12)C(=O)O)OCC1c2ccccc2-c2ccccc21',\n",
       " 'O=C(N[C@H](Cc1ccc([N+](=O)[O-])cc1)C(=O)O)OCC1c2ccccc2-c2ccccc21',\n",
       " 'O=C(Nc1ccc(F)cc1C(=O)O)OCC1c2ccccc2-c2ccccc21',\n",
       " 'O=C(O)C[C@@H](NC(=O)OCC1c2ccccc2-c2ccccc21)c1cccc(Cl)c1',\n",
       " 'C[C@@H](OCc1ccccc1)[C@H](NC(=O)OCC1c2ccccc2-c2ccccc21)C(=O)O',\n",
       " 'O=C(N[C@H](Cc1ccc(F)c(F)c1)C(=O)O)OCC1c2ccccc2-c2ccccc21',\n",
       " 'O=C(CC[C@H](NC(=O)OCC1c2ccccc2-c2ccccc21)C(=O)O)OC1CCCCC1',\n",
       " 'O=C(Nc1c(C(=O)O)sc2ncccc12)OCC1c2ccccc2-c2ccccc21',\n",
       " 'O=C(N[C@@H](Cc1ccc(F)cc1F)C(=O)O)OCC1c2ccccc2-c2ccccc21',\n",
       " 'O=C(Nc1cccnc1C(=O)O)OCC1c2ccccc2-c2ccccc21',\n",
       " 'CC(C)CC(NC(=O)OCC1c2ccccc2-c2ccccc21)C(=O)O',\n",
       " 'O=C(O)C[C@@H](NC(=O)OCC1c2ccccc2-c2ccccc21)c1ccc(Br)cc1',\n",
       " 'O=C(Nc1cc(C(=O)O)cc(C(=O)O)c1)OCC1c2ccccc2-c2ccccc21',\n",
       " 'O=C(O)[C@H]1COCCN1C(=O)OCC1c2ccccc2-c2ccccc21',\n",
       " 'O=C(NC1(C(=O)O)CCOCC1)OCC1c2ccccc2-c2ccccc21',\n",
       " 'O=C(N[C@H]1CC[C@H](C(=O)O)CC1)OCC1c2ccccc2-c2ccccc21',\n",
       " 'O=C(N[C@H](Cc1ccc(-c2ccccc2)cc1)C(=O)O)OCC1c2ccccc2-c2ccccc21',\n",
       " 'O=C(N[C@H](C(=O)O)C1CCCC1)OCC1c2ccccc2-c2ccccc21',\n",
       " 'O=C(Nc1c(Cl)cccc1C(=O)O)OCC1c2ccccc2-c2ccccc21',\n",
       " 'COc1ccc([C@H](NC(=O)OCC2c3ccccc3-c3ccccc32)C(=O)O)cc1',\n",
       " 'Cc1ccc(C(=O)O)cc1NC(=O)OCC1c2ccccc2-c2ccccc21',\n",
       " 'CC(C)(C)OC(=O)N1CCN(C(=O)OCC2c3ccccc3-c3ccccc32)C1C(=O)O',\n",
       " 'O=C(Nc1cc(-n2cccn2)ccc1C(=O)O)OCC1c2ccccc2-c2ccccc21',\n",
       " 'O=C(O)[C@@H]1CCCN1C(=O)OCC1c2ccccc2-c2ccccc21',\n",
       " 'O=C(N[C@@H](Cc1cccs1)C(=O)O)OCC1c2ccccc2-c2ccccc21',\n",
       " 'O=C(O)C1CCN(C(=O)OCC2c3ccccc3-c3ccccc32)C1',\n",
       " 'O=C(N[C@@H](Cc1ccsc1)C(=O)O)OCC1c2ccccc2-c2ccccc21',\n",
       " 'O=C(Nc1ccc(C(=O)O)c([N+](=O)[O-])c1)OCC1c2ccccc2-c2ccccc21',\n",
       " 'O=C(NC1(C(=O)O)CCCCC1)OCC1c2ccccc2-c2ccccc21',\n",
       " 'O=C(N[C@@H]1CC[C@H](C(=O)O)C1)OCC1c2ccccc2-c2ccccc21',\n",
       " 'Cc1cccc(NC(=O)OCC2c3ccccc3-c3ccccc32)c1C(=O)O',\n",
       " 'O=C(O)C[C@@H](Cc1ccc(Br)cc1)NC(=O)OCC1c2ccccc2-c2ccccc21',\n",
       " 'O=C(NC(CCc1ccccc1)C(=O)O)OCC1c2ccccc2-c2ccccc21',\n",
       " 'O=C(O)[C@H]1C[C@H](O)CN1C(=O)OCC1c2ccccc2-c2ccccc21',\n",
       " 'N#Cc1ccc(C[C@@H](NC(=O)OCC2c3ccccc3-c3ccccc32)C(=O)O)cc1',\n",
       " 'O=C(N[C@@H](Cc1cccnc1)C(=O)O)OCC1c2ccccc2-c2ccccc21',\n",
       " 'O=C(NC[C@H]1CC[C@H](C(=O)O)CC1)OCC1c2ccccc2-c2ccccc21',\n",
       " 'O=C(O)C[C@@H](NC(=O)OCC1c2ccccc2-c2ccccc21)c1cccc([N+](=O)[O-])c1',\n",
       " 'O=C(Nc1nc(-c2ccc(C(=O)O)cc2)cs1)OCC1c2ccccc2-c2ccccc21',\n",
       " 'O=C(Nc1c(F)cc(C(=O)O)cc1F)OCC1c2ccccc2-c2ccccc21',\n",
       " 'O=C(N[C@H](Cc1ccc(I)cc1)C(=O)O)OCC1c2ccccc2-c2ccccc21',\n",
       " 'O=C(N[C@H]1C=C[C@@H](C(=O)O)C1)OCC1c2ccccc2-c2ccccc21',\n",
       " 'COc1ccc(C[C@H](NC(=O)OCC2c3ccccc3-c3ccccc32)C(=O)O)cc1OC',\n",
       " 'O=C(Nc1c(C(=O)O)cccc1C(=O)O)OCC1c2ccccc2-c2ccccc21',\n",
       " 'C=CCC(NC(=O)OCC1c2ccccc2-c2ccccc21)C(=O)O',\n",
       " 'O=C(Nc1cc(Br)c(F)cc1C(=O)O)OCC1c2ccccc2-c2ccccc21',\n",
       " 'O=C(Nc1cc(F)c(Br)cc1C(=O)O)OCC1c2ccccc2-c2ccccc21',\n",
       " 'O=C(N[C@H]1CC[C@@H](C(=O)O)C1)OCC1c2ccccc2-c2ccccc21',\n",
       " 'CCCCC(NC(=O)OCC1c2ccccc2-c2ccccc21)C(=O)O',\n",
       " 'O=C(O)CNC(=O)OCC1c2ccccc2-c2ccccc21',\n",
       " 'O=C(N[C@@H](Cc1cc(F)c(F)c(F)c1)C(=O)O)OCC1c2ccccc2-c2ccccc21',\n",
       " 'Cc1cc(Br)c(C(=O)O)cc1NC(=O)OCC1c2ccccc2-c2ccccc21',\n",
       " 'O=C(Nc1ccc(C(=O)O)c(C(=O)O)c1)OCC1c2ccccc2-c2ccccc21',\n",
       " 'O=C(Nc1ncc(C(=O)O)s1)OCC1c2ccccc2-c2ccccc21',\n",
       " 'O=C(O)Cc1ccc(NC(=O)OCC2c3ccccc3-c3ccccc32)cc1',\n",
       " 'O=C(Nc1nc(Cl)ccc1C(=O)O)OCC1c2ccccc2-c2ccccc21',\n",
       " 'O=C(O)C[C@H](NC(=O)OCC1c2ccccc2-c2ccccc21)c1cccc(Cl)c1Cl',\n",
       " 'O=C(N[C@@H](C(=O)O)C1CCCC1)OCC1c2ccccc2-c2ccccc21',\n",
       " 'O=C(Nc1ccc(C(=O)O)c(F)c1)OCC1c2ccccc2-c2ccccc21',\n",
       " 'Cc1ccc(C[C@H](NC(=O)OCC2c3ccccc3-c3ccccc32)C(=O)O)cc1',\n",
       " 'C=CC[C@H](NC(=O)OCC1c2ccccc2-c2ccccc21)C(=O)O',\n",
       " 'O=C(N[C@@H](Cc1ccc(C(F)(F)F)cc1)C(=O)O)OCC1c2ccccc2-c2ccccc21',\n",
       " 'O=C(Nc1cccc(Br)c1C(=O)O)OCC1c2ccccc2-c2ccccc21',\n",
       " 'O=C(O)[C@H]1CC2CCCCC2N1C(=O)OCC1c2ccccc2-c2ccccc21',\n",
       " 'C=CCC[C@@H](NC(=O)OCC1c2ccccc2-c2ccccc21)C(=O)O',\n",
       " 'CC(OC(C)(C)C)C(NC(=O)OCC1c2ccccc2-c2ccccc21)C(=O)O',\n",
       " 'O=C(N[C@@H](CCC1CCCCC1)C(=O)O)OCC1c2ccccc2-c2ccccc21',\n",
       " 'O=C(NC1(C(=O)O)CCC1)OCC1c2ccccc2-c2ccccc21',\n",
       " 'Cc1cc(Br)c(NC(=O)OCC2c3ccccc3-c3ccccc32)c(C(=O)O)c1',\n",
       " 'O=C(NCc1cccc(C(=O)O)c1)OCC1c2ccccc2-c2ccccc21',\n",
       " 'O=C(Nc1ccc(C(=O)O)cc1C(F)(F)F)OCC1c2ccccc2-c2ccccc21',\n",
       " 'O=C(Nc1ccc(C(F)(F)F)cc1C(=O)O)OCC1c2ccccc2-c2ccccc21',\n",
       " 'O=C(O)CC1(NC(=O)OCC2c3ccccc3-c3ccccc32)CCCCC1',\n",
       " 'O=C(N[C@H](CC1CCCC1)C(=O)O)OCC1c2ccccc2-c2ccccc21']"
      ]
     },
     "execution_count": 14,
     "metadata": {},
     "output_type": "execute_result"
    }
   ],
   "source": [
    "unique_list1_train"
   ]
  },
  {
   "cell_type": "code",
   "execution_count": 6,
   "metadata": {},
   "outputs": [],
   "source": [
    "import random\n",
    "block23 = list(set(unique_list2_train).union(set(unique_list3_train)))\n",
    "\n",
    "random.shuffle(block23)\n",
    "split1_block23 = block23[0:30] \n",
    "split2_block23 = block23[30:60] \n",
    "split3_block23 = block23[60:90] \n",
    "split4_block23 = block23[90:120] \n",
    "split5_block23 = block23[120:150] "
   ]
  },
  {
   "cell_type": "code",
   "execution_count": 9,
   "metadata": {},
   "outputs": [],
   "source": [
    "import pickle\n",
    "\n",
    "with open('../../block_splits.pkl', 'wb') as f:\n",
    "    pickle.dump(((split1_block1, split2_block1, split3_block1, split4_block1, split5_block1), (split1_block23, split2_block23, split3_block23, split4_block23, split5_block23)),f)"
   ]
  },
  {
   "cell_type": "code",
   "execution_count": 3,
   "metadata": {},
   "outputs": [
    {
     "name": "stdout",
     "output_type": "stream",
     "text": [
      "<pyarrow._parquet.ParquetSchema object at 0x7be2632ea900>\n",
      "required group field_id=-1 schema {\n",
      "  optional int64 field_id=-1 id;\n",
      "  optional binary field_id=-1 buildingblock1_smiles (String);\n",
      "  optional binary field_id=-1 buildingblock2_smiles (String);\n",
      "  optional binary field_id=-1 buildingblock3_smiles (String);\n",
      "  optional binary field_id=-1 molecule_smiles (String);\n",
      "  optional binary field_id=-1 protein_name (String);\n",
      "}\n",
      "\n"
     ]
    }
   ],
   "source": [
    "parquet_file = pq.ParquetFile('../../test.parquet')\n",
    "total_records = parquet_file.metadata.num_rows\n",
    "# Optionally, you can inspect the schema to confirm field names and types\n",
    "print(parquet_file.schema)\n",
    "\n",
    "column_data = parquet_file.read(columns=['buildingblock1_smiles'])\n",
    "unique_values = pc.unique(column_data.column(0))\n",
    "unique_list1_test = unique_values.to_pylist()\n",
    "\n",
    "column_data = parquet_file.read(columns=['buildingblock2_smiles'])\n",
    "unique_values = pc.unique(column_data.column(0))\n",
    "unique_list2_test = unique_values.to_pylist()\n",
    "\n",
    "column_data = parquet_file.read(columns=['buildingblock3_smiles'])\n",
    "unique_values = pc.unique(column_data.column(0))\n",
    "unique_list3_test = unique_values.to_pylist()"
   ]
  },
  {
   "cell_type": "code",
   "execution_count": 4,
   "metadata": {},
   "outputs": [],
   "source": [
    "train_unique = set(unique_list1_train).union(set(unique_list2_train)).union(set(unique_list3_train) )\n",
    "test_unique = set(unique_list1_test).union(set(unique_list2_test)).union(set(unique_list3_test) )"
   ]
  },
  {
   "cell_type": "code",
   "execution_count": 10,
   "metadata": {},
   "outputs": [
    {
     "name": "stdout",
     "output_type": "stream",
     "text": [
      "len train_unique_c1 271 train_unique_c2 693 train_unique_c3 872\n",
      "len test_unique_c1 341 test_unique_c2 1140 test_unique_c3 1389\n"
     ]
    }
   ],
   "source": [
    "print(f'len train_unique_c1 {len(set(unique_list1_train))} train_unique_c2 {len(unique_list2_train)} train_unique_c3 {len(unique_list3_train)}')\n",
    "print(f'len test_unique_c1 {len(unique_list1_test)} test_unique_c2 {len(unique_list2_test)} test_unique_c3 {len(unique_list3_test)}')\n"
   ]
  },
  {
   "cell_type": "code",
   "execution_count": 11,
   "metadata": {},
   "outputs": [
    {
     "name": "stdout",
     "output_type": "stream",
     "text": [
      "len delta test - train 70\n",
      "len delta test - train 447\n",
      "len delta test - train 518\n"
     ]
    }
   ],
   "source": [
    "print(f'len delta test - train {len(set(unique_list1_test) - set(unique_list1_train))}')\n",
    "print(f'len delta test - train {len(set(unique_list2_test) - set(unique_list2_train))}')\n",
    "print(f'len delta test - train {len(set(unique_list3_test) - set(unique_list3_train))}')"
   ]
  },
  {
   "cell_type": "code",
   "execution_count": 24,
   "metadata": {},
   "outputs": [
    {
     "name": "stdout",
     "output_type": "stream",
     "text": [
      "len delta test - train 895\n",
      "len delta test - train 518\n"
     ]
    }
   ],
   "source": [
    "print(f'len delta test - train {len(set(unique_list2_test).union(unique_list3_test) - set(unique_list2_train).union(unique_list3_train))}')\n",
    "print(f'len delta test - train {len(set(unique_list3_test) - set(unique_list3_train))}')"
   ]
  },
  {
   "cell_type": "code",
   "execution_count": 25,
   "metadata": {},
   "outputs": [
    {
     "data": {
      "text/plain": [
       "1769"
      ]
     },
     "execution_count": 25,
     "metadata": {},
     "output_type": "execute_result"
    }
   ],
   "source": [
    "len(set(unique_list2_test).union(unique_list3_test))"
   ]
  },
  {
   "cell_type": "code",
   "execution_count": 26,
   "metadata": {},
   "outputs": [
    {
     "data": {
      "text/plain": [
       "874"
      ]
     },
     "execution_count": 26,
     "metadata": {},
     "output_type": "execute_result"
    }
   ],
   "source": [
    "len(set(unique_list2_train).union(unique_list3_train))"
   ]
  },
  {
   "cell_type": "code",
   "execution_count": 27,
   "metadata": {},
   "outputs": [
    {
     "data": {
      "text/plain": [
       "70"
      ]
     },
     "execution_count": 27,
     "metadata": {},
     "output_type": "execute_result"
    }
   ],
   "source": [
    "len(set(unique_list1_test)-set(unique_list1_train))\n"
   ]
  },
  {
   "cell_type": "code",
   "execution_count": 7,
   "metadata": {},
   "outputs": [
    {
     "name": "stdout",
     "output_type": "stream",
     "text": [
      "len train_unique 1145\n",
      "len test unique 2110\n",
      "len delta train - test 0\n",
      "len delta test - train 965\n"
     ]
    }
   ],
   "source": [
    "print(f'len train_unique {len(train_unique)}')\n",
    "print(f'len test unique {len(test_unique)}')\n",
    "print(f'len delta train - test {len(train_unique - test_unique)}')\n",
    "print(f'len delta test - train {len(test_unique - train_unique)}')"
   ]
  },
  {
   "cell_type": "code",
   "execution_count": 63,
   "metadata": {},
   "outputs": [],
   "source": [
    "data_test = pd.read_parquet('../../test.parquet')"
   ]
  },
  {
   "cell_type": "code",
   "execution_count": 54,
   "metadata": {},
   "outputs": [
    {
     "data": {
      "text/html": [
       "<div>\n",
       "<style scoped>\n",
       "    .dataframe tbody tr th:only-of-type {\n",
       "        vertical-align: middle;\n",
       "    }\n",
       "\n",
       "    .dataframe tbody tr th {\n",
       "        vertical-align: top;\n",
       "    }\n",
       "\n",
       "    .dataframe thead th {\n",
       "        text-align: right;\n",
       "    }\n",
       "</style>\n",
       "<table border=\"1\" class=\"dataframe\">\n",
       "  <thead>\n",
       "    <tr style=\"text-align: right;\">\n",
       "      <th></th>\n",
       "      <th>id</th>\n",
       "      <th>buildingblock1_smiles</th>\n",
       "      <th>buildingblock2_smiles</th>\n",
       "      <th>buildingblock3_smiles</th>\n",
       "      <th>molecule_smiles</th>\n",
       "      <th>protein_name</th>\n",
       "    </tr>\n",
       "  </thead>\n",
       "  <tbody>\n",
       "    <tr>\n",
       "      <th>0</th>\n",
       "      <td>295246830</td>\n",
       "      <td>C#CCCC[C@H](NC(=O)OCC1c2ccccc2-c2ccccc21)C(=O)O</td>\n",
       "      <td>C=Cc1ccc(N)cc1</td>\n",
       "      <td>C=Cc1ccc(N)cc1</td>\n",
       "      <td>C#CCCC[C@H](Nc1nc(Nc2ccc(C=C)cc2)nc(Nc2ccc(C=C...</td>\n",
       "      <td>BRD4</td>\n",
       "    </tr>\n",
       "    <tr>\n",
       "      <th>1</th>\n",
       "      <td>295246831</td>\n",
       "      <td>C#CCCC[C@H](NC(=O)OCC1c2ccccc2-c2ccccc21)C(=O)O</td>\n",
       "      <td>C=Cc1ccc(N)cc1</td>\n",
       "      <td>C=Cc1ccc(N)cc1</td>\n",
       "      <td>C#CCCC[C@H](Nc1nc(Nc2ccc(C=C)cc2)nc(Nc2ccc(C=C...</td>\n",
       "      <td>HSA</td>\n",
       "    </tr>\n",
       "    <tr>\n",
       "      <th>2</th>\n",
       "      <td>295246832</td>\n",
       "      <td>C#CCCC[C@H](NC(=O)OCC1c2ccccc2-c2ccccc21)C(=O)O</td>\n",
       "      <td>C=Cc1ccc(N)cc1</td>\n",
       "      <td>C=Cc1ccc(N)cc1</td>\n",
       "      <td>C#CCCC[C@H](Nc1nc(Nc2ccc(C=C)cc2)nc(Nc2ccc(C=C...</td>\n",
       "      <td>sEH</td>\n",
       "    </tr>\n",
       "    <tr>\n",
       "      <th>3</th>\n",
       "      <td>295246833</td>\n",
       "      <td>C#CCCC[C@H](NC(=O)OCC1c2ccccc2-c2ccccc21)C(=O)O</td>\n",
       "      <td>C=Cc1ccc(N)cc1</td>\n",
       "      <td>CC(O)Cn1cnc2c(N)ncnc21</td>\n",
       "      <td>C#CCCC[C@H](Nc1nc(Nc2ccc(C=C)cc2)nc(Nc2ncnc3c2...</td>\n",
       "      <td>BRD4</td>\n",
       "    </tr>\n",
       "    <tr>\n",
       "      <th>4</th>\n",
       "      <td>295246834</td>\n",
       "      <td>C#CCCC[C@H](NC(=O)OCC1c2ccccc2-c2ccccc21)C(=O)O</td>\n",
       "      <td>C=Cc1ccc(N)cc1</td>\n",
       "      <td>CC(O)Cn1cnc2c(N)ncnc21</td>\n",
       "      <td>C#CCCC[C@H](Nc1nc(Nc2ccc(C=C)cc2)nc(Nc2ncnc3c2...</td>\n",
       "      <td>HSA</td>\n",
       "    </tr>\n",
       "  </tbody>\n",
       "</table>\n",
       "</div>"
      ],
      "text/plain": [
       "          id                            buildingblock1_smiles  \\\n",
       "0  295246830  C#CCCC[C@H](NC(=O)OCC1c2ccccc2-c2ccccc21)C(=O)O   \n",
       "1  295246831  C#CCCC[C@H](NC(=O)OCC1c2ccccc2-c2ccccc21)C(=O)O   \n",
       "2  295246832  C#CCCC[C@H](NC(=O)OCC1c2ccccc2-c2ccccc21)C(=O)O   \n",
       "3  295246833  C#CCCC[C@H](NC(=O)OCC1c2ccccc2-c2ccccc21)C(=O)O   \n",
       "4  295246834  C#CCCC[C@H](NC(=O)OCC1c2ccccc2-c2ccccc21)C(=O)O   \n",
       "\n",
       "  buildingblock2_smiles   buildingblock3_smiles  \\\n",
       "0        C=Cc1ccc(N)cc1          C=Cc1ccc(N)cc1   \n",
       "1        C=Cc1ccc(N)cc1          C=Cc1ccc(N)cc1   \n",
       "2        C=Cc1ccc(N)cc1          C=Cc1ccc(N)cc1   \n",
       "3        C=Cc1ccc(N)cc1  CC(O)Cn1cnc2c(N)ncnc21   \n",
       "4        C=Cc1ccc(N)cc1  CC(O)Cn1cnc2c(N)ncnc21   \n",
       "\n",
       "                                     molecule_smiles protein_name  \n",
       "0  C#CCCC[C@H](Nc1nc(Nc2ccc(C=C)cc2)nc(Nc2ccc(C=C...         BRD4  \n",
       "1  C#CCCC[C@H](Nc1nc(Nc2ccc(C=C)cc2)nc(Nc2ccc(C=C...          HSA  \n",
       "2  C#CCCC[C@H](Nc1nc(Nc2ccc(C=C)cc2)nc(Nc2ccc(C=C...          sEH  \n",
       "3  C#CCCC[C@H](Nc1nc(Nc2ccc(C=C)cc2)nc(Nc2ncnc3c2...         BRD4  \n",
       "4  C#CCCC[C@H](Nc1nc(Nc2ccc(C=C)cc2)nc(Nc2ncnc3c2...          HSA  "
      ]
     },
     "execution_count": 54,
     "metadata": {},
     "output_type": "execute_result"
    }
   ],
   "source": [
    "data_test.head()"
   ]
  },
  {
   "cell_type": "code",
   "execution_count": 55,
   "metadata": {},
   "outputs": [
    {
     "data": {
      "text/plain": [
       "1674896"
      ]
     },
     "execution_count": 55,
     "metadata": {},
     "output_type": "execute_result"
    }
   ],
   "source": [
    "len(data_test)"
   ]
  },
  {
   "cell_type": "code",
   "execution_count": 57,
   "metadata": {},
   "outputs": [
    {
     "data": {
      "text/html": [
       "<div>\n",
       "<style scoped>\n",
       "    .dataframe tbody tr th:only-of-type {\n",
       "        vertical-align: middle;\n",
       "    }\n",
       "\n",
       "    .dataframe tbody tr th {\n",
       "        vertical-align: top;\n",
       "    }\n",
       "\n",
       "    .dataframe thead th {\n",
       "        text-align: right;\n",
       "    }\n",
       "</style>\n",
       "<table border=\"1\" class=\"dataframe\">\n",
       "  <thead>\n",
       "    <tr style=\"text-align: right;\">\n",
       "      <th></th>\n",
       "      <th>id</th>\n",
       "      <th>buildingblock1_smiles</th>\n",
       "      <th>buildingblock2_smiles</th>\n",
       "      <th>buildingblock3_smiles</th>\n",
       "      <th>molecule_smiles</th>\n",
       "      <th>protein_name</th>\n",
       "    </tr>\n",
       "  </thead>\n",
       "  <tbody>\n",
       "    <tr>\n",
       "      <th>1989</th>\n",
       "      <td>295248819</td>\n",
       "      <td>C#CC[C@@H](CC(=O)O)NC(=O)OCC1c2ccccc2-c2ccccc21</td>\n",
       "      <td>C#Cc1ccc(N)cc1</td>\n",
       "      <td>COc1ccc(OC)c(N)c1</td>\n",
       "      <td>C#CC[C@@H](CC(=O)N[Dy])Nc1nc(Nc2ccc(C#C)cc2)nc...</td>\n",
       "      <td>BRD4</td>\n",
       "    </tr>\n",
       "    <tr>\n",
       "      <th>1990</th>\n",
       "      <td>295248820</td>\n",
       "      <td>C#CC[C@@H](CC(=O)O)NC(=O)OCC1c2ccccc2-c2ccccc21</td>\n",
       "      <td>C#Cc1ccc(N)cc1</td>\n",
       "      <td>COc1ccc(OC)c(N)c1</td>\n",
       "      <td>C#CC[C@@H](CC(=O)N[Dy])Nc1nc(Nc2ccc(C#C)cc2)nc...</td>\n",
       "      <td>HSA</td>\n",
       "    </tr>\n",
       "    <tr>\n",
       "      <th>1991</th>\n",
       "      <td>295248821</td>\n",
       "      <td>C#CC[C@@H](CC(=O)O)NC(=O)OCC1c2ccccc2-c2ccccc21</td>\n",
       "      <td>C#Cc1ccc(N)cc1</td>\n",
       "      <td>COc1ccc(OC)c(N)c1</td>\n",
       "      <td>C#CC[C@@H](CC(=O)N[Dy])Nc1nc(Nc2ccc(C#C)cc2)nc...</td>\n",
       "      <td>sEH</td>\n",
       "    </tr>\n",
       "    <tr>\n",
       "      <th>1992</th>\n",
       "      <td>295248822</td>\n",
       "      <td>C#CC[C@@H](CC(=O)O)NC(=O)OCC1c2ccccc2-c2ccccc21</td>\n",
       "      <td>C#Cc1ccc(N)cc1</td>\n",
       "      <td>Nc1nc(NCc2ccc(F)cc2)ccc1[N+](=O)[O-]</td>\n",
       "      <td>C#CC[C@@H](CC(=O)N[Dy])Nc1nc(Nc2ccc(C#C)cc2)nc...</td>\n",
       "      <td>BRD4</td>\n",
       "    </tr>\n",
       "    <tr>\n",
       "      <th>1993</th>\n",
       "      <td>295248823</td>\n",
       "      <td>C#CC[C@@H](CC(=O)O)NC(=O)OCC1c2ccccc2-c2ccccc21</td>\n",
       "      <td>C#Cc1ccc(N)cc1</td>\n",
       "      <td>Nc1nc(NCc2ccc(F)cc2)ccc1[N+](=O)[O-]</td>\n",
       "      <td>C#CC[C@@H](CC(=O)N[Dy])Nc1nc(Nc2ccc(C#C)cc2)nc...</td>\n",
       "      <td>HSA</td>\n",
       "    </tr>\n",
       "    <tr>\n",
       "      <th>...</th>\n",
       "      <td>...</td>\n",
       "      <td>...</td>\n",
       "      <td>...</td>\n",
       "      <td>...</td>\n",
       "      <td>...</td>\n",
       "      <td>...</td>\n",
       "    </tr>\n",
       "    <tr>\n",
       "      <th>1674891</th>\n",
       "      <td>296921721</td>\n",
       "      <td>[N-]=[N+]=NCCC[C@H](NC(=O)OCC1c2ccccc2-c2ccccc...</td>\n",
       "      <td>Nc1noc2ccc(F)cc12</td>\n",
       "      <td>COC1CCC(CCN)CC1</td>\n",
       "      <td>COC1CCC(CCNc2nc(Nc3noc4ccc(F)cc34)nc(N[C@@H](C...</td>\n",
       "      <td>HSA</td>\n",
       "    </tr>\n",
       "    <tr>\n",
       "      <th>1674892</th>\n",
       "      <td>296921722</td>\n",
       "      <td>[N-]=[N+]=NCCC[C@H](NC(=O)OCC1c2ccccc2-c2ccccc...</td>\n",
       "      <td>Nc1noc2ccc(F)cc12</td>\n",
       "      <td>COC1CCC(CCN)CC1</td>\n",
       "      <td>COC1CCC(CCNc2nc(Nc3noc4ccc(F)cc34)nc(N[C@@H](C...</td>\n",
       "      <td>sEH</td>\n",
       "    </tr>\n",
       "    <tr>\n",
       "      <th>1674893</th>\n",
       "      <td>296921723</td>\n",
       "      <td>[N-]=[N+]=NCCC[C@H](NC(=O)OCC1c2ccccc2-c2ccccc...</td>\n",
       "      <td>Nc1noc2ccc(F)cc12</td>\n",
       "      <td>NCc1cccs1</td>\n",
       "      <td>[N-]=[N+]=NCCC[C@H](Nc1nc(NCc2cccs2)nc(Nc2noc3...</td>\n",
       "      <td>BRD4</td>\n",
       "    </tr>\n",
       "    <tr>\n",
       "      <th>1674894</th>\n",
       "      <td>296921724</td>\n",
       "      <td>[N-]=[N+]=NCCC[C@H](NC(=O)OCC1c2ccccc2-c2ccccc...</td>\n",
       "      <td>Nc1noc2ccc(F)cc12</td>\n",
       "      <td>NCc1cccs1</td>\n",
       "      <td>[N-]=[N+]=NCCC[C@H](Nc1nc(NCc2cccs2)nc(Nc2noc3...</td>\n",
       "      <td>HSA</td>\n",
       "    </tr>\n",
       "    <tr>\n",
       "      <th>1674895</th>\n",
       "      <td>296921725</td>\n",
       "      <td>[N-]=[N+]=NCCC[C@H](NC(=O)OCC1c2ccccc2-c2ccccc...</td>\n",
       "      <td>Nc1noc2ccc(F)cc12</td>\n",
       "      <td>NCc1cccs1</td>\n",
       "      <td>[N-]=[N+]=NCCC[C@H](Nc1nc(NCc2cccs2)nc(Nc2noc3...</td>\n",
       "      <td>sEH</td>\n",
       "    </tr>\n",
       "  </tbody>\n",
       "</table>\n",
       "<p>1107117 rows × 6 columns</p>\n",
       "</div>"
      ],
      "text/plain": [
       "                id                              buildingblock1_smiles  \\\n",
       "1989     295248819    C#CC[C@@H](CC(=O)O)NC(=O)OCC1c2ccccc2-c2ccccc21   \n",
       "1990     295248820    C#CC[C@@H](CC(=O)O)NC(=O)OCC1c2ccccc2-c2ccccc21   \n",
       "1991     295248821    C#CC[C@@H](CC(=O)O)NC(=O)OCC1c2ccccc2-c2ccccc21   \n",
       "1992     295248822    C#CC[C@@H](CC(=O)O)NC(=O)OCC1c2ccccc2-c2ccccc21   \n",
       "1993     295248823    C#CC[C@@H](CC(=O)O)NC(=O)OCC1c2ccccc2-c2ccccc21   \n",
       "...            ...                                                ...   \n",
       "1674891  296921721  [N-]=[N+]=NCCC[C@H](NC(=O)OCC1c2ccccc2-c2ccccc...   \n",
       "1674892  296921722  [N-]=[N+]=NCCC[C@H](NC(=O)OCC1c2ccccc2-c2ccccc...   \n",
       "1674893  296921723  [N-]=[N+]=NCCC[C@H](NC(=O)OCC1c2ccccc2-c2ccccc...   \n",
       "1674894  296921724  [N-]=[N+]=NCCC[C@H](NC(=O)OCC1c2ccccc2-c2ccccc...   \n",
       "1674895  296921725  [N-]=[N+]=NCCC[C@H](NC(=O)OCC1c2ccccc2-c2ccccc...   \n",
       "\n",
       "        buildingblock2_smiles                 buildingblock3_smiles  \\\n",
       "1989           C#Cc1ccc(N)cc1                     COc1ccc(OC)c(N)c1   \n",
       "1990           C#Cc1ccc(N)cc1                     COc1ccc(OC)c(N)c1   \n",
       "1991           C#Cc1ccc(N)cc1                     COc1ccc(OC)c(N)c1   \n",
       "1992           C#Cc1ccc(N)cc1  Nc1nc(NCc2ccc(F)cc2)ccc1[N+](=O)[O-]   \n",
       "1993           C#Cc1ccc(N)cc1  Nc1nc(NCc2ccc(F)cc2)ccc1[N+](=O)[O-]   \n",
       "...                       ...                                   ...   \n",
       "1674891     Nc1noc2ccc(F)cc12                       COC1CCC(CCN)CC1   \n",
       "1674892     Nc1noc2ccc(F)cc12                       COC1CCC(CCN)CC1   \n",
       "1674893     Nc1noc2ccc(F)cc12                             NCc1cccs1   \n",
       "1674894     Nc1noc2ccc(F)cc12                             NCc1cccs1   \n",
       "1674895     Nc1noc2ccc(F)cc12                             NCc1cccs1   \n",
       "\n",
       "                                           molecule_smiles protein_name  \n",
       "1989     C#CC[C@@H](CC(=O)N[Dy])Nc1nc(Nc2ccc(C#C)cc2)nc...         BRD4  \n",
       "1990     C#CC[C@@H](CC(=O)N[Dy])Nc1nc(Nc2ccc(C#C)cc2)nc...          HSA  \n",
       "1991     C#CC[C@@H](CC(=O)N[Dy])Nc1nc(Nc2ccc(C#C)cc2)nc...          sEH  \n",
       "1992     C#CC[C@@H](CC(=O)N[Dy])Nc1nc(Nc2ccc(C#C)cc2)nc...         BRD4  \n",
       "1993     C#CC[C@@H](CC(=O)N[Dy])Nc1nc(Nc2ccc(C#C)cc2)nc...          HSA  \n",
       "...                                                    ...          ...  \n",
       "1674891  COC1CCC(CCNc2nc(Nc3noc4ccc(F)cc34)nc(N[C@@H](C...          HSA  \n",
       "1674892  COC1CCC(CCNc2nc(Nc3noc4ccc(F)cc34)nc(N[C@@H](C...          sEH  \n",
       "1674893  [N-]=[N+]=NCCC[C@H](Nc1nc(NCc2cccs2)nc(Nc2noc3...         BRD4  \n",
       "1674894  [N-]=[N+]=NCCC[C@H](Nc1nc(NCc2cccs2)nc(Nc2noc3...          HSA  \n",
       "1674895  [N-]=[N+]=NCCC[C@H](Nc1nc(NCc2cccs2)nc(Nc2noc3...          sEH  \n",
       "\n",
       "[1107117 rows x 6 columns]"
      ]
     },
     "execution_count": 57,
     "metadata": {},
     "output_type": "execute_result"
    }
   ],
   "source": [
    "data_test[((data_test['buildingblock1_smiles'].isin(unique_list1_train)) | (data_test['buildingblock2_smiles'].isin(unique_list2_train) | data_test['buildingblock2_smiles'].isin(unique_list3_train))  | (data_test['buildingblock3_smiles'].isin(unique_list3_train)))]"
   ]
  },
  {
   "cell_type": "code",
   "execution_count": 51,
   "metadata": {},
   "outputs": [
    {
     "data": {
      "text/html": [
       "<div>\n",
       "<style scoped>\n",
       "    .dataframe tbody tr th:only-of-type {\n",
       "        vertical-align: middle;\n",
       "    }\n",
       "\n",
       "    .dataframe tbody tr th {\n",
       "        vertical-align: top;\n",
       "    }\n",
       "\n",
       "    .dataframe thead th {\n",
       "        text-align: right;\n",
       "    }\n",
       "</style>\n",
       "<table border=\"1\" class=\"dataframe\">\n",
       "  <thead>\n",
       "    <tr style=\"text-align: right;\">\n",
       "      <th></th>\n",
       "      <th>id</th>\n",
       "      <th>buildingblock1_smiles</th>\n",
       "      <th>buildingblock2_smiles</th>\n",
       "      <th>buildingblock3_smiles</th>\n",
       "      <th>molecule_smiles</th>\n",
       "      <th>protein_name</th>\n",
       "    </tr>\n",
       "  </thead>\n",
       "  <tbody>\n",
       "  </tbody>\n",
       "</table>\n",
       "</div>"
      ],
      "text/plain": [
       "Empty DataFrame\n",
       "Columns: [id, buildingblock1_smiles, buildingblock2_smiles, buildingblock3_smiles, molecule_smiles, protein_name]\n",
       "Index: []"
      ]
     },
     "execution_count": 51,
     "metadata": {},
     "output_type": "execute_result"
    }
   ],
   "source": [
    "train_unique[train_unique['buildingblock3_smiles'].isin(unique_list1_train)]"
   ]
  },
  {
   "cell_type": "code",
   "execution_count": 5,
   "metadata": {},
   "outputs": [],
   "source": [
    "import random\n",
    "u1_random = random.sample(unique_list1_train, 10)\n",
    "u2_random = random.sample(unique_list2_train, 20)\n",
    "u3_random = random.sample(unique_list3_train, 20)"
   ]
  },
  {
   "cell_type": "code",
   "execution_count": 8,
   "metadata": {},
   "outputs": [],
   "source": [
    "parquet_file = pq.ParquetFile('../../train.parquet')"
   ]
  },
  {
   "cell_type": "code",
   "execution_count": 26,
   "metadata": {},
   "outputs": [
    {
     "name": "stderr",
     "output_type": "stream",
     "text": [
      "296it [04:05,  1.21it/s]\n"
     ]
    }
   ],
   "source": [
    "from tqdm.auto import tqdm\n",
    "x_inside = 0\n",
    "x_inside_i = 0\n",
    "drop_i = 0\n",
    "x_rest = 0\n",
    "total = 0\n",
    "overlapping = set(u1_random).union(set(u2_random).union(u3_random))\n",
    "for x in tqdm(parquet_file.iter_batches(batch_size=1000000)):\n",
    "    x = x.to_pandas()\n",
    "    x_inside += len(x[x['buildingblock1_smiles'].isin(u1_random) & x['buildingblock2_smiles'].isin(u2_random) & x['buildingblock3_smiles'].isin(u3_random)])\n",
    "    x_inside_i += len(x[x['buildingblock1_smiles'].isin(u1_random) & x['buildingblock3_smiles'].isin(u3_random) & x['buildingblock2_smiles'].isin(u2_random)]) \n",
    "    drop_i += len(x[x['buildingblock1_smiles'].isin(u1_random) | x['buildingblock2_smiles'].isin(overlapping) | x['buildingblock3_smiles'].isin(overlapping)])  \n",
    "\n",
    "    x_rest += len(x)-x_inside-x_inside_i\n",
    "    total += len(x)\n",
    "    "
   ]
  },
  {
   "cell_type": "code",
   "execution_count": 32,
   "metadata": {},
   "outputs": [
    {
     "data": {
      "text/plain": [
       "295246830"
      ]
     },
     "execution_count": 32,
     "metadata": {},
     "output_type": "execute_result"
    }
   ],
   "source": [
    "total"
   ]
  },
  {
   "cell_type": "code",
   "execution_count": 33,
   "metadata": {},
   "outputs": [
    {
     "data": {
      "text/plain": [
       "6645"
      ]
     },
     "execution_count": 33,
     "metadata": {},
     "output_type": "execute_result"
    }
   ],
   "source": [
    "x_inside"
   ]
  },
  {
   "cell_type": "code",
   "execution_count": 34,
   "metadata": {},
   "outputs": [
    {
     "data": {
      "text/plain": [
       "6645"
      ]
     },
     "execution_count": 34,
     "metadata": {},
     "output_type": "execute_result"
    }
   ],
   "source": [
    "x_inside_i"
   ]
  },
  {
   "cell_type": "code",
   "execution_count": 35,
   "metadata": {},
   "outputs": [
    {
     "data": {
      "text/plain": [
       "36159603"
      ]
     },
     "execution_count": 35,
     "metadata": {},
     "output_type": "execute_result"
    }
   ],
   "source": [
    "drop_i"
   ]
  },
  {
   "cell_type": "code",
   "execution_count": 36,
   "metadata": {},
   "outputs": [
    {
     "data": {
      "text/plain": [
       "293176560"
      ]
     },
     "execution_count": 36,
     "metadata": {},
     "output_type": "execute_result"
    }
   ],
   "source": [
    "x_rest"
   ]
  },
  {
   "cell_type": "code",
   "execution_count": null,
   "metadata": {},
   "outputs": [],
   "source": [
    "def generate_train(file, unique1, unique_rest):\n",
    "    parquet_file = pq.ParquetFile('../../train.parquet')\n",
    "    train_ids = []\n",
    "    test_ids = []\n",
    "    sum_ids = set(unique1).union(set(unique_rest))\n",
    "    for x in tqdm(parquet_file.iter_batches(batch_size=1000000)):\n",
    "        x = x.to_pandas()\n",
    "        x_test = x['buildingblock1_smiles'].isin(unique1) & x['buildingblock2_smiles'].isin(unique_rest) & x['buildingblock3_smiles'].isin(unique_rest)\n",
    "        x_train = ~(x['buildingblock1_smiles'].isin(sum_ids) | x['buildingblock2_smiles'].isin(sum_ids) | x['buildingblock3_smiles'].isin(sum_ids))\n",
    "\n",
    "        x = x.drop(['buildingblock1_smiles','buildingblock2_smiles','buildingblock3_smiles','molecule_smiles','protein_name','binds'],axis=1)\n",
    "        x['is_train'] = x_train\n",
    "        x['is_test_unique'] = x_test"
   ]
  },
  {
   "cell_type": "code",
   "execution_count": null,
   "metadata": {},
   "outputs": [],
   "source": [
    "def generate_split(file, unique1, unique_rest):\n",
    "    parquet_file = pq.ParquetFile('../../train.parquet')\n",
    "    train_ids = []\n",
    "    test_ids = []\n",
    "    sum_ids = set(unique1).union(set(unique_rest))\n",
    "    for x in tqdm(parquet_file.iter_batches(batch_size=1000000)):\n",
    "        x = x.to_pandas()\n",
    "        x_test = x['buildingblock1_smiles'].isin(unique1) & x['buildingblock2_smiles'].isin(unique_rest) & x['buildingblock3_smiles'].isin(unique_rest)\n",
    "        x_train = ~(x['buildingblock1_smiles'].isin(sum_ids) | x['buildingblock2_smiles'].isin(sum_ids) | x['buildingblock3_smiles'].isin(sum_ids))\n",
    "\n",
    "        x = x.drop(['buildingblock1_smiles','buildingblock2_smiles','buildingblock3_smiles','molecule_smiles','protein_name','binds'],axis=1)\n",
    "        x['is_train'] = x_train\n",
    "        x['is_test_unique'] = x_test\n",
    "        \n",
    "\n",
    "    "
   ]
  },
  {
   "cell_type": "code",
   "execution_count": 3,
   "metadata": {},
   "outputs": [
    {
     "name": "stdout",
     "output_type": "stream",
     "text": [
      "1.0\n",
      "1.0\n",
      "1.0\n"
     ]
    }
   ],
   "source": [
    "def protein_name_eda(dataset_path):\n",
    "    protein_name =  pd.read_parquet(dataset_path, engine = 'pyarrow', columns=['protein_name']).protein_name.to_numpy()\n",
    "    protein_name_reshaped = np.reshape(protein_name, [-1, 3])\n",
    "    print(np.mean(protein_name_reshaped[:, 0] == 'BRD4'))\n",
    "    print(np.mean(protein_name_reshaped[:, 1] == 'HSA'))\n",
    "    print(np.mean(protein_name_reshaped[:, 2] == 'sEH'))\n",
    "    \n",
    "protein_name_eda('../../train.parquet')"
   ]
  },
  {
   "cell_type": "code",
   "execution_count": 5,
   "metadata": {},
   "outputs": [],
   "source": [
    "DEBUG = False\n",
    "if DEBUG:\n",
    "    NUM_ROWS = 30000000\n",
    "else:\n",
    "    NUM_ROWS = 295246830"
   ]
  },
  {
   "cell_type": "code",
   "execution_count": 7,
   "metadata": {},
   "outputs": [
    {
     "name": "stdout",
     "output_type": "stream",
     "text": [
      "271\n",
      "693\n"
     ]
    }
   ],
   "source": [
    "def get_unique_BB(dataset_path, col):\n",
    "    BBs = pd.read_parquet(dataset_path, engine = 'pyarrow', columns=[col])\n",
    "    BBs = BBs[:NUM_ROWS]\n",
    "    BBs = BBs.to_numpy()[:, 0]\n",
    "    BBs_reshaped = np.reshape(BBs, [-1, 3])\n",
    "    \n",
    "    if np.mean(BBs_reshaped[:, 0] == BBs_reshaped[:, 1]) != 1:\n",
    "        print('ERROR')\n",
    "    if np.mean(BBs_reshaped[:, 0] == BBs_reshaped[:, 2]) != 1:\n",
    "        print('ERROR')\n",
    "    \n",
    "    BBs_unique = np.unique(BBs_reshaped[:, 0])\n",
    "    BBs_unique = list(BBs_unique)\n",
    "    BBs_dict = {BBs_unique[i]:i for i in range(len(BBs_unique))}\n",
    "    BBs_dict_reverse = {i:BBs_unique[i] for i in range(len(BBs_unique))}\n",
    "    return BBs_dict, BBs_dict_reverse\n",
    "\n",
    "BBs_dict_1, BBs_dict_reverse_1 = get_unique_BB('../../train.parquet', 'buildingblock1_smiles')\n",
    "print(len(BBs_dict_1))\n",
    "BBs_dict_2, BBs_dict_reverse_2 = get_unique_BB('../../train.parquet', 'buildingblock2_smiles')\n",
    "print(len(BBs_dict_2))\n",
    "BBs_dict_3, BBs_dict_reverse_3 = get_unique_BB('../../train.parquet', 'buildingblock3_smiles')\n",
    "print(len(BBs_dict_3))"
   ]
  }
 ],
 "metadata": {
  "kernelspec": {
   "display_name": "belka",
   "language": "python",
   "name": "python3"
  },
  "language_info": {
   "codemirror_mode": {
    "name": "ipython",
    "version": 3
   },
   "file_extension": ".py",
   "mimetype": "text/x-python",
   "name": "python",
   "nbconvert_exporter": "python",
   "pygments_lexer": "ipython3",
   "version": "3.10.13"
  }
 },
 "nbformat": 4,
 "nbformat_minor": 2
}

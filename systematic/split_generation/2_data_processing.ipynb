{
 "cells": [
  {
   "cell_type": "code",
   "execution_count": 2,
   "metadata": {},
   "outputs": [],
   "source": [
    "import numpy as np\n",
    "import pandas as pd\n",
    "from pyarrow.parquet import ParquetFile\n",
    "import pickle\n",
    "import os"
   ]
  },
  {
   "cell_type": "code",
   "execution_count": 3,
   "metadata": {},
   "outputs": [],
   "source": [
    "DEBUG = False\n",
    "if DEBUG:\n",
    "    NUM_ROWS = 30000000\n",
    "else:\n",
    "    NUM_ROWS = 295246830"
   ]
  },
  {
   "cell_type": "code",
   "execution_count": 4,
   "metadata": {},
   "outputs": [],
   "source": [
    "dataset_path = '../../train.parquet'"
   ]
  },
  {
   "cell_type": "code",
   "execution_count": 5,
   "metadata": {},
   "outputs": [],
   "source": [
    "def get_binds(dataset_path):\n",
    "    binds =  pd.read_parquet(dataset_path, engine = 'pyarrow', columns=['binds']).binds.to_numpy()\n",
    "    binds = binds[:NUM_ROWS]\n",
    "    return np.reshape(binds.astype('byte'), [-1, 3])\n",
    "\n",
    "binds = get_binds(dataset_path)"
   ]
  },
  {
   "cell_type": "code",
   "execution_count": 6,
   "metadata": {},
   "outputs": [
    {
     "name": "stdout",
     "output_type": "stream",
     "text": [
      "271\n",
      "693\n",
      "872\n"
     ]
    }
   ],
   "source": [
    "def get_unique_BB(dataset_path, col):\n",
    "    BBs = pd.read_parquet(dataset_path, engine = 'pyarrow', columns=[col])\n",
    "    BBs = BBs[:NUM_ROWS]\n",
    "    BBs = BBs.to_numpy()[:, 0]\n",
    "    BBs_reshaped = np.reshape(BBs, [-1, 3])\n",
    "    \n",
    "    if np.mean(BBs_reshaped[:, 0] == BBs_reshaped[:, 1]) != 1:\n",
    "        print('ERROR')\n",
    "    if np.mean(BBs_reshaped[:, 0] == BBs_reshaped[:, 2]) != 1:\n",
    "        print('ERROR')\n",
    "    \n",
    "    BBs_unique = np.unique(BBs_reshaped[:, 0])\n",
    "    BBs_unique = list(BBs_unique)\n",
    "    BBs_dict = {BBs_unique[i]:i for i in range(len(BBs_unique))}\n",
    "    BBs_dict_reverse = {i:BBs_unique[i] for i in range(len(BBs_unique))}\n",
    "    return BBs_dict, BBs_dict_reverse\n",
    "\n",
    "BBs_dict_1, BBs_dict_reverse_1 = get_unique_BB(dataset_path, 'buildingblock1_smiles')\n",
    "print(len(BBs_dict_1))\n",
    "BBs_dict_2, BBs_dict_reverse_2 = get_unique_BB(dataset_path, 'buildingblock2_smiles')\n",
    "print(len(BBs_dict_2))\n",
    "BBs_dict_3, BBs_dict_reverse_3 = get_unique_BB(dataset_path, 'buildingblock3_smiles')\n",
    "print(len(BBs_dict_3))"
   ]
  },
  {
   "cell_type": "code",
   "execution_count": 7,
   "metadata": {},
   "outputs": [],
   "source": [
    "def get_encoded(dataset_path, col, BBs_dict):\n",
    "    BBs = pd.read_parquet(dataset_path, engine = 'pyarrow', columns=[col])\n",
    "    BBs = BBs[:NUM_ROWS]\n",
    "    BBs = BBs[col].to_numpy()\n",
    "    BBs_reshaped = np.reshape(BBs, [-1, 3])\n",
    "    BBs = BBs_reshaped[:, 0]\n",
    "    encoded_BBs = [BBs_dict[x] for x in BBs]\n",
    "    encoded_BBs = np.asarray(encoded_BBs, dtype = np.int16)\n",
    "    return encoded_BBs\n",
    "\n",
    "encoded_BBs_1 = get_encoded(dataset_path, 'buildingblock1_smiles', BBs_dict_1)\n",
    "encoded_BBs_2 = get_encoded(dataset_path, 'buildingblock2_smiles', BBs_dict_2)\n",
    "encoded_BBs_3 = get_encoded(dataset_path, 'buildingblock3_smiles', BBs_dict_3)"
   ]
  },
  {
   "cell_type": "code",
   "execution_count": 8,
   "metadata": {},
   "outputs": [],
   "source": [
    "def get_molecule_smiles(dataset_path):\n",
    "    if DEBUG:\n",
    "        molecule_smiles = pd.read_csv(f'{dataset_path[:-7]}csv', usecols=['molecule_smiles'], nrows = NUM_ROWS)\n",
    "    else:\n",
    "        molecule_smiles = pd.read_parquet(dataset_path, engine = 'pyarrow', columns=['molecule_smiles'])\n",
    "    molecule_smiles = molecule_smiles.molecule_smiles.to_numpy()\n",
    "    molecule_smiles = np.reshape(molecule_smiles, [-1, 3])\n",
    "    if np.mean(molecule_smiles[:, 0] == molecule_smiles[:, 1]) != 1:\n",
    "        print('ERROR')\n",
    "    if np.mean(molecule_smiles[:, 0] == molecule_smiles[:, 2]) != 1:\n",
    "        print('ERROR')\n",
    "    return molecule_smiles[:, 0]\n",
    "\n",
    "molecule_smiles = get_molecule_smiles(dataset_path)"
   ]
  },
  {
   "cell_type": "code",
   "execution_count": 9,
   "metadata": {},
   "outputs": [
    {
     "data": {
      "text/html": [
       "<div>\n",
       "<style scoped>\n",
       "    .dataframe tbody tr th:only-of-type {\n",
       "        vertical-align: middle;\n",
       "    }\n",
       "\n",
       "    .dataframe tbody tr th {\n",
       "        vertical-align: top;\n",
       "    }\n",
       "\n",
       "    .dataframe thead th {\n",
       "        text-align: right;\n",
       "    }\n",
       "</style>\n",
       "<table border=\"1\" class=\"dataframe\">\n",
       "  <thead>\n",
       "    <tr style=\"text-align: right;\">\n",
       "      <th></th>\n",
       "      <th>buildingblock1_smiles</th>\n",
       "      <th>buildingblock2_smiles</th>\n",
       "      <th>buildingblock3_smiles</th>\n",
       "      <th>molecule_smiles</th>\n",
       "      <th>binds_BRD4</th>\n",
       "      <th>binds_HSA</th>\n",
       "      <th>binds_sEH</th>\n",
       "    </tr>\n",
       "  </thead>\n",
       "  <tbody>\n",
       "    <tr>\n",
       "      <th>0</th>\n",
       "      <td>0</td>\n",
       "      <td>0</td>\n",
       "      <td>0</td>\n",
       "      <td>C#CCOc1ccc(CNc2nc(NCC3CCCN3c3cccnn3)nc(N[C@@H]...</td>\n",
       "      <td>0</td>\n",
       "      <td>0</td>\n",
       "      <td>0</td>\n",
       "    </tr>\n",
       "    <tr>\n",
       "      <th>1</th>\n",
       "      <td>0</td>\n",
       "      <td>0</td>\n",
       "      <td>1</td>\n",
       "      <td>C#CCOc1ccc(CNc2nc(NCc3cccc(Br)n3)nc(N[C@@H](CC...</td>\n",
       "      <td>0</td>\n",
       "      <td>0</td>\n",
       "      <td>0</td>\n",
       "    </tr>\n",
       "  </tbody>\n",
       "</table>\n",
       "</div>"
      ],
      "text/plain": [
       "   buildingblock1_smiles  buildingblock2_smiles  buildingblock3_smiles  \\\n",
       "0                      0                      0                      0   \n",
       "1                      0                      0                      1   \n",
       "\n",
       "                                     molecule_smiles  binds_BRD4  binds_HSA  \\\n",
       "0  C#CCOc1ccc(CNc2nc(NCC3CCCN3c3cccnn3)nc(N[C@@H]...           0          0   \n",
       "1  C#CCOc1ccc(CNc2nc(NCc3cccc(Br)n3)nc(N[C@@H](CC...           0          0   \n",
       "\n",
       "   binds_sEH  \n",
       "0          0  \n",
       "1          0  "
      ]
     },
     "execution_count": 9,
     "metadata": {},
     "output_type": "execute_result"
    }
   ],
   "source": [
    "data = {'buildingblock1_smiles':encoded_BBs_1, 'buildingblock2_smiles':encoded_BBs_2, 'buildingblock3_smiles':encoded_BBs_3,\n",
    "        'molecule_smiles':molecule_smiles, 'binds_BRD4':binds[:, 0], 'binds_HSA':binds[:, 1], 'binds_sEH':binds[:, 2]}\n",
    "df = pd.DataFrame(data=data)\n",
    "df.head(2)"
   ]
  },
  {
   "cell_type": "code",
   "execution_count": 11,
   "metadata": {},
   "outputs": [],
   "source": [
    "try:\n",
    "    os.mkdir('../train_data/')\n",
    "    os.mkdir('../train_data/train_dicts')\n",
    "except:\n",
    "    pass\n",
    "df.to_parquet('../train_data/train.parquet', index = False)\n",
    "\n",
    "   \n",
    "pickle.dump(BBs_dict_1, open('../train_data/train_dicts/BBs_dict_1.p', 'bw'))\n",
    "pickle.dump(BBs_dict_2, open('../train_data/train_dicts/BBs_dict_2.p', 'bw'))\n",
    "pickle.dump(BBs_dict_3, open('../train_data/train_dicts/BBs_dict_3.p', 'bw'))\n",
    "pickle.dump(BBs_dict_reverse_1, open('../train_data/train_dicts/BBs_dict_reverse_1.p', 'bw'))\n",
    "pickle.dump(BBs_dict_reverse_2, open('../train_data/train_dicts/BBs_dict_reverse_2.p', 'bw'))\n",
    "pickle.dump(BBs_dict_reverse_3, open('../train_data/train_dicts/BBs_dict_reverse_3.p', 'bw'))"
   ]
  },
  {
   "cell_type": "code",
   "execution_count": 12,
   "metadata": {},
   "outputs": [],
   "source": [
    "test_path = '../../test.parquet'"
   ]
  },
  {
   "cell_type": "code",
   "execution_count": 13,
   "metadata": {},
   "outputs": [
    {
     "name": "stdout",
     "output_type": "stream",
     "text": [
      "878022\n",
      "558859\n",
      "557895\n",
      "558142\n",
      "True\n"
     ]
    }
   ],
   "source": [
    "molecule_smiles = pd.read_parquet(test_path, engine = 'pyarrow', columns=['molecule_smiles']).molecule_smiles.to_numpy()\n",
    "protein_name = pd.read_parquet(test_path, engine = 'pyarrow', columns=['protein_name']).protein_name.to_numpy()\n",
    "first_unique_molecule_smiles_indices = []\n",
    "molecule_smiles_unique = {}\n",
    "is_BRD4 = {}\n",
    "is_HSA = {}\n",
    "is_sEH = {}\n",
    "for i,x in enumerate(molecule_smiles):\n",
    "    if x not in molecule_smiles_unique:\n",
    "        molecule_smiles_unique[x] = [i]\n",
    "        first_unique_molecule_smiles_indices.append(i)\n",
    "        is_BRD4[x] = False\n",
    "        is_HSA[x] = False\n",
    "        is_sEH[x] = False\n",
    "        if protein_name[i] == 'BRD4':\n",
    "            is_BRD4[x] = True\n",
    "        if protein_name[i] == 'HSA':\n",
    "            is_HSA[x] = True\n",
    "        if protein_name[i] == 'sEH':\n",
    "            is_sEH[x] = True\n",
    "    else:\n",
    "        molecule_smiles_unique[x].append(i)\n",
    "        if protein_name[i] == 'BRD4':\n",
    "            is_BRD4[x] = True\n",
    "        if protein_name[i] == 'HSA':\n",
    "            is_HSA[x] = True\n",
    "        if protein_name[i] == 'sEH':\n",
    "            is_sEH[x] = True\n",
    "first_unique_molecule_smiles_indices = np.asarray(first_unique_molecule_smiles_indices)\n",
    "print(len(is_BRD4))\n",
    "print(np.sum([is_BRD4[x] for x in is_BRD4]))\n",
    "print(np.sum([is_HSA[x] for x in is_HSA]))\n",
    "print(np.sum([is_sEH[x] for x in is_sEH]))\n",
    "\n",
    "molecule_smiles_unique_arr = molecule_smiles[first_unique_molecule_smiles_indices]\n",
    "print(len(np.unique(molecule_smiles_unique_arr)) == len(molecule_smiles_unique_arr))"
   ]
  },
  {
   "cell_type": "code",
   "execution_count": 14,
   "metadata": {},
   "outputs": [
    {
     "name": "stdout",
     "output_type": "stream",
     "text": [
      "558859\n",
      "557895\n",
      "558142\n"
     ]
    }
   ],
   "source": [
    "is_BRD4_arr = np.asarray([is_BRD4[x] for x in molecule_smiles_unique])\n",
    "is_HSA_arr = np.asarray([is_HSA[x] for x in molecule_smiles_unique])\n",
    "is_sEH_arr = np.asarray([is_sEH[x] for x in molecule_smiles_unique])\n",
    "\n",
    "print(np.sum(is_BRD4_arr))\n",
    "print(np.sum(is_HSA_arr))\n",
    "print(np.sum(is_sEH_arr))"
   ]
  },
  {
   "cell_type": "code",
   "execution_count": 15,
   "metadata": {},
   "outputs": [
    {
     "name": "stdout",
     "output_type": "stream",
     "text": [
      "341\n",
      "1140\n",
      "1389\n"
     ]
    }
   ],
   "source": [
    "def get_unique_BB_test(dataset_path, col):\n",
    "    BBs = pd.read_parquet(dataset_path, engine = 'pyarrow', columns=[col])\n",
    "    BBs = BBs[col].to_numpy()\n",
    "    BBs_unique = np.unique(BBs)\n",
    "    BBs_unique = list(BBs_unique)\n",
    "    BBs_dict = {BBs_unique[i]:i for i in range(len(BBs_unique))}\n",
    "    BBs_dict_reverse = {i:BBs_unique[i] for i in range(len(BBs_unique))}\n",
    "    return BBs_dict, BBs_dict_reverse\n",
    "\n",
    "BBs_dict_1_test, BBs_dict_reverse_1_test = get_unique_BB_test(test_path, 'buildingblock1_smiles')\n",
    "print(len(BBs_dict_1_test))\n",
    "BBs_dict_2_test, BBs_dict_reverse_2_test = get_unique_BB_test(test_path, 'buildingblock2_smiles')\n",
    "print(len(BBs_dict_2_test))\n",
    "BBs_dict_3_test, BBs_dict_reverse_3_test = get_unique_BB_test(test_path, 'buildingblock3_smiles')\n",
    "print(len(BBs_dict_3_test))"
   ]
  },
  {
   "cell_type": "code",
   "execution_count": 17,
   "metadata": {},
   "outputs": [],
   "source": [
    "def get_encoded_test(dataset_path, col, BBs_dict):\n",
    "    BBs = pd.read_parquet(dataset_path, engine = 'pyarrow', columns=[col])\n",
    "    BBs = BBs[col].to_numpy()\n",
    "    BBs = BBs[first_unique_molecule_smiles_indices]\n",
    "    encoded_BBs = [BBs_dict[x] for x in BBs]\n",
    "    encoded_BBs = np.asarray(encoded_BBs, dtype = np.int16)\n",
    "    return encoded_BBs\n",
    "\n",
    "encoded_BBs_1_test = get_encoded_test(test_path, 'buildingblock1_smiles', BBs_dict_1_test)\n",
    "encoded_BBs_2_test = get_encoded_test(test_path, 'buildingblock2_smiles', BBs_dict_2_test)\n",
    "encoded_BBs_3_test = get_encoded_test(test_path, 'buildingblock3_smiles', BBs_dict_3_test)"
   ]
  },
  {
   "cell_type": "code",
   "execution_count": 18,
   "metadata": {},
   "outputs": [
    {
     "data": {
      "text/html": [
       "<div>\n",
       "<style scoped>\n",
       "    .dataframe tbody tr th:only-of-type {\n",
       "        vertical-align: middle;\n",
       "    }\n",
       "\n",
       "    .dataframe tbody tr th {\n",
       "        vertical-align: top;\n",
       "    }\n",
       "\n",
       "    .dataframe thead th {\n",
       "        text-align: right;\n",
       "    }\n",
       "</style>\n",
       "<table border=\"1\" class=\"dataframe\">\n",
       "  <thead>\n",
       "    <tr style=\"text-align: right;\">\n",
       "      <th></th>\n",
       "      <th>buildingblock1_smiles</th>\n",
       "      <th>buildingblock2_smiles</th>\n",
       "      <th>buildingblock3_smiles</th>\n",
       "      <th>molecule_smiles</th>\n",
       "      <th>is_BRD4</th>\n",
       "      <th>is_HSA</th>\n",
       "      <th>is_sEH</th>\n",
       "    </tr>\n",
       "  </thead>\n",
       "  <tbody>\n",
       "    <tr>\n",
       "      <th>0</th>\n",
       "      <td>0</td>\n",
       "      <td>17</td>\n",
       "      <td>17</td>\n",
       "      <td>C#CCCC[C@H](Nc1nc(Nc2ccc(C=C)cc2)nc(Nc2ccc(C=C...</td>\n",
       "      <td>True</td>\n",
       "      <td>True</td>\n",
       "      <td>True</td>\n",
       "    </tr>\n",
       "    <tr>\n",
       "      <th>1</th>\n",
       "      <td>0</td>\n",
       "      <td>17</td>\n",
       "      <td>87</td>\n",
       "      <td>C#CCCC[C@H](Nc1nc(Nc2ccc(C=C)cc2)nc(Nc2ncnc3c2...</td>\n",
       "      <td>True</td>\n",
       "      <td>True</td>\n",
       "      <td>True</td>\n",
       "    </tr>\n",
       "  </tbody>\n",
       "</table>\n",
       "</div>"
      ],
      "text/plain": [
       "   buildingblock1_smiles  buildingblock2_smiles  buildingblock3_smiles  \\\n",
       "0                      0                     17                     17   \n",
       "1                      0                     17                     87   \n",
       "\n",
       "                                     molecule_smiles  is_BRD4  is_HSA  is_sEH  \n",
       "0  C#CCCC[C@H](Nc1nc(Nc2ccc(C=C)cc2)nc(Nc2ccc(C=C...     True    True    True  \n",
       "1  C#CCCC[C@H](Nc1nc(Nc2ccc(C=C)cc2)nc(Nc2ncnc3c2...     True    True    True  "
      ]
     },
     "execution_count": 18,
     "metadata": {},
     "output_type": "execute_result"
    }
   ],
   "source": [
    "data = {'buildingblock1_smiles':encoded_BBs_1_test, 'buildingblock2_smiles':encoded_BBs_2_test,\n",
    "        'buildingblock3_smiles':encoded_BBs_3_test,'molecule_smiles':molecule_smiles_unique_arr,\n",
    "        'is_BRD4':is_BRD4_arr, 'is_HSA':is_HSA_arr, 'is_sEH':is_sEH_arr}\n",
    "df = pd.DataFrame(data=data)\n",
    "df.head(2)"
   ]
  },
  {
   "cell_type": "code",
   "execution_count": 19,
   "metadata": {},
   "outputs": [],
   "source": [
    "try:\n",
    "    os.mkdir('../test_data/')\n",
    "    os.mkdir('../test_data/test_dicts')\n",
    "except:\n",
    "    pass\n",
    "df.to_parquet('../test_data/test.parquet', index = False)\n",
    "\n",
    "   \n",
    "pickle.dump(BBs_dict_1, open('../test_data/test_dicts/BBs_dict_1.p', 'bw'))\n",
    "pickle.dump(BBs_dict_2, open('../test_data/test_dicts/BBs_dict_2.p', 'bw'))\n",
    "pickle.dump(BBs_dict_3, open('../test_data/test_dicts/BBs_dict_3.p', 'bw'))\n",
    "pickle.dump(BBs_dict_reverse_1, open('../test_data/test_dicts/BBs_dict_reverse_1.p', 'bw'))\n",
    "pickle.dump(BBs_dict_reverse_2, open('../test_data/test_dicts/BBs_dict_reverse_2.p', 'bw'))\n",
    "pickle.dump(BBs_dict_reverse_3, open('../test_data/test_dicts/BBs_dict_reverse_3.p', 'bw'))"
   ]
  }
 ],
 "metadata": {
  "kernelspec": {
   "display_name": "belka",
   "language": "python",
   "name": "python3"
  },
  "language_info": {
   "codemirror_mode": {
    "name": "ipython",
    "version": 3
   },
   "file_extension": ".py",
   "mimetype": "text/x-python",
   "name": "python",
   "nbconvert_exporter": "python",
   "pygments_lexer": "ipython3",
   "version": "3.10.13"
  }
 },
 "nbformat": 4,
 "nbformat_minor": 2
}

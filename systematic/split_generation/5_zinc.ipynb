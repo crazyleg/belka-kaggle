{
 "cells": [
  {
   "cell_type": "code",
   "execution_count": 1,
   "metadata": {},
   "outputs": [
    {
     "name": "stderr",
     "output_type": "stream",
     "text": [
      "Downloading https://www.dropbox.com/s/feo9qle74kg48gy/molecules.zip?dl=1\n",
      "Extracting /tmp/ZINC/molecules.zip\n",
      "Downloading https://raw.githubusercontent.com/graphdeeplearning/benchmarking-gnns/master/data/molecules/train.index\n",
      "Downloading https://raw.githubusercontent.com/graphdeeplearning/benchmarking-gnns/master/data/molecules/val.index\n",
      "Downloading https://raw.githubusercontent.com/graphdeeplearning/benchmarking-gnns/master/data/molecules/test.index\n",
      "Processing...\n",
      "Processing train dataset: 100%|██████████| 220011/220011 [00:18<00:00, 11947.56it/s]\n",
      "Processing val dataset: 100%|██████████| 24445/24445 [00:03<00:00, 8003.84it/s] \n",
      "Processing test dataset: 100%|██████████| 5000/5000 [00:00<00:00, 9736.29it/s] \n",
      "Done!\n",
      "/home/anonymous/miniconda3/envs/belka/lib/python3.10/site-packages/torch_geometric/data/dataset.py:169: UserWarning: Found floating-point labels while calling `dataset.num_classes`. Returning the number of unique elements. Please make sure that this is expected before proceeding.\n",
      "  warnings.warn(\"Found floating-point labels while calling \"\n"
     ]
    },
    {
     "name": "stdout",
     "output_type": "stream",
     "text": [
      "Dataset: ZINC(220011)\n",
      "Number of graphs: 220011\n",
      "Number of features: 1\n",
      "Number of classes: 218362\n",
      "Data(x=[33, 1], edge_index=[2, 72], edge_attr=[72], y=[1])\n"
     ]
    },
    {
     "ename": "IndexError",
     "evalue": "list index out of range",
     "output_type": "error",
     "traceback": [
      "\u001b[0;31m---------------------------------------------------------------------------\u001b[0m",
      "\u001b[0;31mIndexError\u001b[0m                                Traceback (most recent call last)",
      "Cell \u001b[0;32mIn[1], line 31\u001b[0m\n\u001b[1;32m     29\u001b[0m \u001b[38;5;66;03m# Display the first 5 SMILES and their corresponding labels\u001b[39;00m\n\u001b[1;32m     30\u001b[0m \u001b[38;5;28;01mfor\u001b[39;00m i \u001b[38;5;129;01min\u001b[39;00m \u001b[38;5;28mrange\u001b[39m(\u001b[38;5;241m5\u001b[39m):\n\u001b[0;32m---> 31\u001b[0m     \u001b[38;5;28mprint\u001b[39m(\u001b[38;5;124mf\u001b[39m\u001b[38;5;124m'\u001b[39m\u001b[38;5;124mSMILES: \u001b[39m\u001b[38;5;132;01m{\u001b[39;00m\u001b[43msmiles_list\u001b[49m\u001b[43m[\u001b[49m\u001b[43mi\u001b[49m\u001b[43m]\u001b[49m\u001b[38;5;132;01m}\u001b[39;00m\u001b[38;5;124m, Label: \u001b[39m\u001b[38;5;132;01m{\u001b[39;00mlabels_list[i]\u001b[38;5;241m.\u001b[39mitem()\u001b[38;5;132;01m}\u001b[39;00m\u001b[38;5;124m'\u001b[39m)\n",
      "\u001b[0;31mIndexError\u001b[0m: list index out of range"
     ]
    }
   ],
   "source": [
    "import torch\n",
    "from torch_geometric.datasets import ZINC\n",
    "from torch_geometric.data import DataLoader\n",
    "\n",
    "# Load the ZINC dataset\n",
    "dataset = ZINC(root='/tmp/ZINC')\n",
    "\n",
    "# Print some basic information about the dataset\n",
    "print(f'Dataset: {dataset}')\n",
    "print(f'Number of graphs: {len(dataset)}')\n",
    "print(f'Number of features: {dataset.num_features}')\n",
    "print(f'Number of classes: {dataset.num_classes}')\n",
    "\n",
    "# Inspect the first graph in the dataset\n",
    "data = dataset[0]\n",
    "print(data)\n",
    "\n",
    "# Check if there is a SMILES representation and what labels are there\n",
    "# Each data object in the ZINC dataset contains 'smiles' and 'y' attributes.\n",
    "smiles_list = []\n",
    "labels_list = []\n",
    "\n",
    "for data in dataset:\n",
    "    if hasattr(data, 'smiles'):\n",
    "        smiles_list.append(data.smiles)\n",
    "    if hasattr(data, 'y'):\n",
    "        labels_list.append(data.y)\n",
    "\n",
    "# Display the first 5 SMILES and their corresponding labels\n",
    "for i in range(5):\n",
    "    print(f'SMILES: {smiles_list[i]}, Label: {labels_list[i].item()}')\n",
    "\n"
   ]
  },
  {
   "cell_type": "code",
   "execution_count": 9,
   "metadata": {},
   "outputs": [
    {
     "data": {
      "text/plain": [
       "tensor([[0],\n",
       "        [0],\n",
       "        [0],\n",
       "        [0],\n",
       "        [2],\n",
       "        [0],\n",
       "        [0],\n",
       "        [2],\n",
       "        [0],\n",
       "        [4],\n",
       "        [0],\n",
       "        [6],\n",
       "        [2],\n",
       "        [0],\n",
       "        [0],\n",
       "        [0],\n",
       "        [0],\n",
       "        [0],\n",
       "        [0],\n",
       "        [0]])"
      ]
     },
     "execution_count": 9,
     "metadata": {},
     "output_type": "execute_result"
    }
   ],
   "source": [
    "data."
   ]
  }
 ],
 "metadata": {
  "kernelspec": {
   "display_name": "belka",
   "language": "python",
   "name": "python3"
  },
  "language_info": {
   "codemirror_mode": {
    "name": "ipython",
    "version": 3
   },
   "file_extension": ".py",
   "mimetype": "text/x-python",
   "name": "python",
   "nbconvert_exporter": "python",
   "pygments_lexer": "ipython3",
   "version": "3.10.13"
  }
 },
 "nbformat": 4,
 "nbformat_minor": 2
}
